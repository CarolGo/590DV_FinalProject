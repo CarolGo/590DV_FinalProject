{
 "cells": [
  {
   "cell_type": "markdown",
   "metadata": {},
   "source": [
    "Team austin:\n",
    "Haoyuan Song\n",
    "Sixuan Shen\n",
    "Yuyao Wang\n",
    "Mengfei Liang"
   ]
  },
  {
   "cell_type": "code",
   "execution_count": 1,
   "metadata": {
    "collapsed": true
   },
   "outputs": [],
   "source": [
    "import plotly.plotly as py\n",
    "import plotly\n",
    "plotly.tools.set_credentials_file(username='shy950521', api_key='4KfRmGXb7Y1i8JrDmn5Y')\n",
    "from plotly.graph_objs import *"
   ]
  },
  {
   "cell_type": "code",
   "execution_count": 2,
   "metadata": {},
   "outputs": [
    {
     "data": {
      "application/javascript": [
       "window.genUID = function() {\n",
       "    return 'xxxxxxxx-xxxx-4xxx-yxxx-xxxxxxxxxxxx'.replace(/[xy]/g, function(c) {\n",
       "        var r = Math.random()*16|0, v = c == 'x' ? r : (r&0x3|0x8);\n",
       "        return v.toString(16);\n",
       "    });\n",
       "};\n",
       "\n",
       "\n",
       "define('graphWidget', [\"@jupyter-widgets/base\"], function (widget) {\n",
       "\n",
       "    var GraphView = widget.DOMWidgetView.extend({\n",
       "        render: function(){\n",
       "            var that = this;\n",
       "\n",
       "            var graphId = window.genUID();\n",
       "            var loadingId = 'loading-'+graphId;\n",
       "\n",
       "\n",
       "            var _graph_url = that.model.get('_graph_url');\n",
       "\n",
       "            // variable plotlyDomain in the case of enterprise\n",
       "            var url_parts = _graph_url.split('/');\n",
       "            var plotlyDomain = url_parts[0] + '//' + url_parts[2];\n",
       "\n",
       "            if(!('plotlyDomains' in window)){\n",
       "                window.plotlyDomains = {};\n",
       "            }\n",
       "            window.plotlyDomains[graphId] = plotlyDomain;\n",
       "\n",
       "            // Place IFrame in output cell div `$el`\n",
       "            that.$el.css('width', '100%');\n",
       "            that.$graph = $(['<iframe id=\"'+graphId+'\"',\n",
       "                             'src=\"'+_graph_url+'.embed\"',\n",
       "                             'seamless',\n",
       "                             'style=\"border: none;\"',\n",
       "                             'width=\"100%\"',\n",
       "                             'height=\"600\">',\n",
       "                             '</iframe>'].join(' '));\n",
       "            that.$graph.appendTo(that.$el);\n",
       "\n",
       "            that.$loading = $('<div id=\"'+loadingId+'\">Initializing...</div>')\n",
       "                            .appendTo(that.$el);\n",
       "\n",
       "            // for some reason the 'width' is being changed in IPython 3.0.0\n",
       "            // for the containing `div` element. There's a flicker here, but\n",
       "            // I was unable to fix it otherwise.\n",
       "            setTimeout(function ()  {\n",
       "                if (IPYTHON_VERSION === '3') {\n",
       "                    $('#' + graphId)[0].parentElement.style.width = '100%';\n",
       "                }\n",
       "            }, 500);\n",
       "\n",
       "            // initialize communication with the iframe\n",
       "            if(!('pingers' in window)){\n",
       "                window.pingers = {};\n",
       "            }\n",
       "\n",
       "            window.pingers[graphId] = setInterval(function() {\n",
       "                that.graphContentWindow = $('#'+graphId)[0].contentWindow;\n",
       "                that.graphContentWindow.postMessage({task: 'ping'}, plotlyDomain);\n",
       "            }, 200);\n",
       "\n",
       "            // Assign a message listener to the 'message' events\n",
       "            // from iframe's postMessage protocol.\n",
       "            // Filter the messages by iframe src so that the right message\n",
       "            // gets passed to the right widget\n",
       "            if(!('messageListeners' in window)){\n",
       "                 window.messageListeners = {};\n",
       "            }\n",
       "\n",
       "            window.messageListeners[graphId] = function(e) {\n",
       "                if(_graph_url.indexOf(e.origin)>-1) {\n",
       "                    var frame = document.getElementById(graphId);\n",
       "\n",
       "                    if(frame === null){\n",
       "                        // frame doesn't exist in the dom anymore, clean up it's old event listener\n",
       "                        window.removeEventListener('message', window.messageListeners[graphId]);\n",
       "                        clearInterval(window.pingers[graphId]);\n",
       "                    } else if(frame.contentWindow === e.source) {\n",
       "                        // TODO: Stop event propagation, so each frame doesn't listen and filter\n",
       "                        var frameContentWindow = $('#'+graphId)[0].contentWindow;\n",
       "                        var message = e.data;\n",
       "\n",
       "                        if('pong' in message && message.pong) {\n",
       "                            $('#loading-'+graphId).hide();\n",
       "                            clearInterval(window.pingers[graphId]);\n",
       "                            that.send({event: 'pong', graphId: graphId});\n",
       "                        } else if (message.type==='hover' ||\n",
       "                                   message.type==='zoom'  ||\n",
       "                                   message.type==='click' ||\n",
       "                                   message.type==='unhover') {\n",
       "\n",
       "                            // click and hover events contain all of the data in the traces,\n",
       "                            // which can be a very large object and may take a ton of time\n",
       "                            // to pass to the python backend. Strip out the data, and require\n",
       "                            // the user to call get_figure if they need trace information\n",
       "                            if(message.type !== 'zoom') {\n",
       "                                for(var i in message.points) {\n",
       "                                    delete message.points[i].data;\n",
       "                                    delete message.points[i].fullData;\n",
       "                                }\n",
       "                            }\n",
       "                            that.send({event: message.type, message: message, graphId: graphId});\n",
       "                        } else if (message.task === 'getAttributes') {\n",
       "                            that.send({event: 'getAttributes', response: message.response});\n",
       "                        }\n",
       "                    }\n",
       "                }\n",
       "            };\n",
       "\n",
       "            window.removeEventListener('message', window.messageListeners[graphId]);\n",
       "            window.addEventListener('message', window.messageListeners[graphId]);\n",
       "\n",
       "        },\n",
       "\n",
       "        update: function() {\n",
       "            // Listen for messages from the graph widget in python\n",
       "            var jmessage = this.model.get('_message');\n",
       "            var message = JSON.parse(jmessage);\n",
       "\n",
       "            // check for duplicate messages\n",
       "            if(!('messageIds' in window)){\n",
       "                window.messageIds = {};\n",
       "            }\n",
       "\n",
       "            if(!(message.uid in window.messageIds)){\n",
       "                // message hasn't been received yet, do stuff\n",
       "                window.messageIds[message.uid] = true;\n",
       "\n",
       "                if (message.fadeTo) {\n",
       "                    this.fadeTo(message);\n",
       "                } else {\n",
       "                    var plot = $('#' + message.graphId)[0].contentWindow;\n",
       "                    plot.postMessage(message, window.plotlyDomains[message.graphId]);\n",
       "                }\n",
       "            }\n",
       "\n",
       "            return GraphView.__super__.update.apply(this);\n",
       "        },\n",
       "\n",
       "        /**\n",
       "         * Wrapper for jquery's `fadeTo` function.\n",
       "         *\n",
       "         * @param message Contains the id we need to find the element.\n",
       "         */\n",
       "        fadeTo: function (message) {\n",
       "            var plot = $('#' + message.graphId);\n",
       "            plot.fadeTo(message.duration, message.opacity);\n",
       "        }\n",
       "    });\n",
       "\n",
       "    // Register the GraphView with the widget manager.\n",
       "    return {\n",
       "        GraphView: GraphView\n",
       "    }\n",
       "\n",
       "});\n",
       "\n",
       "//@ sourceURL=graphWidget.js\n"
      ],
      "text/plain": [
       "<IPython.core.display.Javascript object>"
      ]
     },
     "metadata": {},
     "output_type": "display_data"
    }
   ],
   "source": [
    "import pandas as pd\n",
    "import numpy as np\n",
    "import datetime\n",
    "import networkx as nx\n",
    "import matplotlib.pyplot as plt\n",
    "from ipywidgets import widgets \n",
    "from IPython.display import display, clear_output, Image\n",
    "from plotly.widgets import GraphWidget"
   ]
  },
  {
   "cell_type": "code",
   "execution_count": 3,
   "metadata": {
    "collapsed": true
   },
   "outputs": [],
   "source": [
    "df = pd.read_csv(\"201803_citibikenyc_tripdata.csv\",\n",
    "           na_values = {'starttime': \"1/1/2010 00:00:00\",\n",
    "                       'stoptime': \"1/1/2010 00:00:00\"})"
   ]
  },
  {
   "cell_type": "code",
   "execution_count": 4,
   "metadata": {},
   "outputs": [
    {
     "data": {
      "text/html": [
       "<div>\n",
       "<style>\n",
       "    .dataframe thead tr:only-child th {\n",
       "        text-align: right;\n",
       "    }\n",
       "\n",
       "    .dataframe thead th {\n",
       "        text-align: left;\n",
       "    }\n",
       "\n",
       "    .dataframe tbody tr th {\n",
       "        vertical-align: top;\n",
       "    }\n",
       "</style>\n",
       "<table border=\"1\" class=\"dataframe\">\n",
       "  <thead>\n",
       "    <tr style=\"text-align: right;\">\n",
       "      <th></th>\n",
       "      <th>tripduration</th>\n",
       "      <th>starttime</th>\n",
       "      <th>stoptime</th>\n",
       "      <th>start station id</th>\n",
       "      <th>start station name</th>\n",
       "      <th>start station latitude</th>\n",
       "      <th>start station longitude</th>\n",
       "      <th>end station id</th>\n",
       "      <th>end station name</th>\n",
       "      <th>end station latitude</th>\n",
       "      <th>end station longitude</th>\n",
       "      <th>bikeid</th>\n",
       "      <th>name_localizedValue0</th>\n",
       "      <th>usertype</th>\n",
       "      <th>birth year</th>\n",
       "      <th>gender</th>\n",
       "    </tr>\n",
       "  </thead>\n",
       "  <tbody>\n",
       "    <tr>\n",
       "      <th>0</th>\n",
       "      <td>455</td>\n",
       "      <td>2018-03-01 00:00:03</td>\n",
       "      <td>2018-03-01 00:07:39</td>\n",
       "      <td>405</td>\n",
       "      <td>Washington St &amp; Gansevoort St</td>\n",
       "      <td>40.739323</td>\n",
       "      <td>-74.008119</td>\n",
       "      <td>368</td>\n",
       "      <td>Carmine St &amp; 6 Ave</td>\n",
       "      <td>40.730386</td>\n",
       "      <td>-74.002150</td>\n",
       "      <td>17629</td>\n",
       "      <td>Annual Membership from Citi Bike App</td>\n",
       "      <td>Subscriber</td>\n",
       "      <td>1993.0</td>\n",
       "      <td>1</td>\n",
       "    </tr>\n",
       "    <tr>\n",
       "      <th>1</th>\n",
       "      <td>486</td>\n",
       "      <td>2018-03-01 00:00:06</td>\n",
       "      <td>2018-03-01 00:08:12</td>\n",
       "      <td>146</td>\n",
       "      <td>Hudson St &amp; Reade St</td>\n",
       "      <td>40.716250</td>\n",
       "      <td>-74.009106</td>\n",
       "      <td>363</td>\n",
       "      <td>West Thames St</td>\n",
       "      <td>40.708347</td>\n",
       "      <td>-74.017134</td>\n",
       "      <td>31491</td>\n",
       "      <td>Annual Membership</td>\n",
       "      <td>Subscriber</td>\n",
       "      <td>1954.0</td>\n",
       "      <td>1</td>\n",
       "    </tr>\n",
       "    <tr>\n",
       "      <th>2</th>\n",
       "      <td>333</td>\n",
       "      <td>2018-03-01 00:00:07</td>\n",
       "      <td>2018-03-01 00:05:41</td>\n",
       "      <td>257</td>\n",
       "      <td>Lispenard St &amp; Broadway</td>\n",
       "      <td>40.719392</td>\n",
       "      <td>-74.002472</td>\n",
       "      <td>361</td>\n",
       "      <td>Allen St &amp; Hester St</td>\n",
       "      <td>40.716059</td>\n",
       "      <td>-73.991908</td>\n",
       "      <td>31991</td>\n",
       "      <td>FREE Bonus Month with Annual Membership</td>\n",
       "      <td>Subscriber</td>\n",
       "      <td>1986.0</td>\n",
       "      <td>1</td>\n",
       "    </tr>\n",
       "    <tr>\n",
       "      <th>3</th>\n",
       "      <td>1629</td>\n",
       "      <td>2018-03-01 00:00:21</td>\n",
       "      <td>2018-03-01 00:27:31</td>\n",
       "      <td>3556</td>\n",
       "      <td>24 St &amp; 41 Ave</td>\n",
       "      <td>40.752709</td>\n",
       "      <td>-73.939740</td>\n",
       "      <td>3532</td>\n",
       "      <td>Ditmars Blvd &amp; 19 St</td>\n",
       "      <td>40.781450</td>\n",
       "      <td>-73.918330</td>\n",
       "      <td>18265</td>\n",
       "      <td>Annual Membership</td>\n",
       "      <td>Subscriber</td>\n",
       "      <td>1990.0</td>\n",
       "      <td>1</td>\n",
       "    </tr>\n",
       "    <tr>\n",
       "      <th>4</th>\n",
       "      <td>64</td>\n",
       "      <td>2018-03-01 00:00:32</td>\n",
       "      <td>2018-03-01 00:01:37</td>\n",
       "      <td>515</td>\n",
       "      <td>W 43 St &amp; 10 Ave</td>\n",
       "      <td>40.760094</td>\n",
       "      <td>-73.994618</td>\n",
       "      <td>3236</td>\n",
       "      <td>W 42 St &amp; Dyer Ave</td>\n",
       "      <td>40.758985</td>\n",
       "      <td>-73.993800</td>\n",
       "      <td>27697</td>\n",
       "      <td>Annual Membership</td>\n",
       "      <td>Subscriber</td>\n",
       "      <td>1985.0</td>\n",
       "      <td>1</td>\n",
       "    </tr>\n",
       "  </tbody>\n",
       "</table>\n",
       "</div>"
      ],
      "text/plain": [
       "   tripduration            starttime             stoptime  start station id  \\\n",
       "0           455  2018-03-01 00:00:03  2018-03-01 00:07:39               405   \n",
       "1           486  2018-03-01 00:00:06  2018-03-01 00:08:12               146   \n",
       "2           333  2018-03-01 00:00:07  2018-03-01 00:05:41               257   \n",
       "3          1629  2018-03-01 00:00:21  2018-03-01 00:27:31              3556   \n",
       "4            64  2018-03-01 00:00:32  2018-03-01 00:01:37               515   \n",
       "\n",
       "              start station name  start station latitude  \\\n",
       "0  Washington St & Gansevoort St               40.739323   \n",
       "1           Hudson St & Reade St               40.716250   \n",
       "2        Lispenard St & Broadway               40.719392   \n",
       "3                 24 St & 41 Ave               40.752709   \n",
       "4               W 43 St & 10 Ave               40.760094   \n",
       "\n",
       "   start station longitude  end station id      end station name  \\\n",
       "0               -74.008119             368    Carmine St & 6 Ave   \n",
       "1               -74.009106             363        West Thames St   \n",
       "2               -74.002472             361  Allen St & Hester St   \n",
       "3               -73.939740            3532  Ditmars Blvd & 19 St   \n",
       "4               -73.994618            3236    W 42 St & Dyer Ave   \n",
       "\n",
       "   end station latitude  end station longitude  bikeid  \\\n",
       "0             40.730386             -74.002150   17629   \n",
       "1             40.708347             -74.017134   31491   \n",
       "2             40.716059             -73.991908   31991   \n",
       "3             40.781450             -73.918330   18265   \n",
       "4             40.758985             -73.993800   27697   \n",
       "\n",
       "                      name_localizedValue0    usertype  birth year  gender  \n",
       "0     Annual Membership from Citi Bike App  Subscriber      1993.0       1  \n",
       "1                        Annual Membership  Subscriber      1954.0       1  \n",
       "2  FREE Bonus Month with Annual Membership  Subscriber      1986.0       1  \n",
       "3                        Annual Membership  Subscriber      1990.0       1  \n",
       "4                        Annual Membership  Subscriber      1985.0       1  "
      ]
     },
     "execution_count": 4,
     "metadata": {},
     "output_type": "execute_result"
    }
   ],
   "source": [
    "df.head(5)"
   ]
  },
  {
   "cell_type": "code",
   "execution_count": 5,
   "metadata": {
    "collapsed": true
   },
   "outputs": [],
   "source": [
    "def date_trans(i):\n",
    "    date = pd.datetime.strptime(i, '%Y-%m-%d %H:%M:%S')\n",
    "    return date"
   ]
  },
  {
   "cell_type": "code",
   "execution_count": 6,
   "metadata": {
    "collapsed": true
   },
   "outputs": [],
   "source": [
    "df['starttime'] = df['starttime'].apply(date_trans)\n",
    "df['stoptime'] = df['stoptime'].apply(date_trans)\n",
    "# tranform the datatype into datetime.datetime"
   ]
  },
  {
   "cell_type": "code",
   "execution_count": 7,
   "metadata": {},
   "outputs": [
    {
     "data": {
      "text/plain": [
       "767"
      ]
     },
     "execution_count": 7,
     "metadata": {},
     "output_type": "execute_result"
    }
   ],
   "source": [
    "df['count'] = 0\n",
    "station = df.groupby(['start station id'])['count'].sum()\n",
    "station.count()"
   ]
  },
  {
   "cell_type": "code",
   "execution_count": 8,
   "metadata": {
    "collapsed": true
   },
   "outputs": [],
   "source": [
    "def count(year, month, start_day, end_day):\n",
    "#count the number of bikes of each station.\n",
    "    n =(end_day-start_day) * 2\n",
    "    start = datetime.datetime(year=year, month=month,day=start_day,hour=0,minute=0,second=0)\n",
    "    end = datetime.datetime(year=year, month=month,day=end_day,hour=0,minute=0,second=0)\n",
    "    data = False\n",
    "    for i in range(n):\n",
    "        start = start + datetime.timedelta(hours = 12)\n",
    "        end = end + datetime.timedelta(hours = 12)\n",
    "        temp_start = df[(start < df['starttime']) & (df['starttime'] < end)]\n",
    "        temp_stop = df[(start < df['stoptime']) & (df['stoptime'] < end)]\n",
    "        start_count = station + temp_start.groupby(['start station id'])['starttime'].count()\n",
    "        start_count.fillna(value=0, inplace=True)\n",
    "        stop_count = station + temp_stop.groupby(['end station id'])['stoptime'].count()\n",
    "        stop_count.fillna(value=0, inplace=True)\n",
    "        temp_count = - start_count + stop_count\n",
    "        temp_count.name = start\n",
    "        if data is False:\n",
    "            data = temp_count\n",
    "        else:\n",
    "            data = pd.concat([data, temp_count], join='outer', axis=1)\n",
    "    temp_data = data\n",
    "    temp_data['start station id']=  temp_data.index\n",
    "    return temp_data"
   ]
  },
  {
   "cell_type": "code",
   "execution_count": 9,
   "metadata": {},
   "outputs": [
    {
     "data": {
      "text/html": [
       "<div>\n",
       "<style>\n",
       "    .dataframe thead tr:only-child th {\n",
       "        text-align: right;\n",
       "    }\n",
       "\n",
       "    .dataframe thead th {\n",
       "        text-align: left;\n",
       "    }\n",
       "\n",
       "    .dataframe tbody tr th {\n",
       "        vertical-align: top;\n",
       "    }\n",
       "</style>\n",
       "<table border=\"1\" class=\"dataframe\">\n",
       "  <thead>\n",
       "    <tr style=\"text-align: right;\">\n",
       "      <th>start station id</th>\n",
       "      <th>72</th>\n",
       "      <th>79</th>\n",
       "      <th>82</th>\n",
       "      <th>83</th>\n",
       "      <th>119</th>\n",
       "      <th>120</th>\n",
       "      <th>127</th>\n",
       "      <th>128</th>\n",
       "      <th>143</th>\n",
       "      <th>144</th>\n",
       "      <th>...</th>\n",
       "      <th>3660</th>\n",
       "      <th>3661</th>\n",
       "      <th>3662</th>\n",
       "      <th>3663</th>\n",
       "      <th>3664</th>\n",
       "      <th>3668</th>\n",
       "      <th>3669</th>\n",
       "      <th>3671</th>\n",
       "      <th>3672</th>\n",
       "      <th>3674</th>\n",
       "    </tr>\n",
       "  </thead>\n",
       "  <tbody>\n",
       "    <tr>\n",
       "      <th>2018-03-01 12:00:00</th>\n",
       "      <td>-4.0</td>\n",
       "      <td>10.0</td>\n",
       "      <td>10.0</td>\n",
       "      <td>30.0</td>\n",
       "      <td>-1.0</td>\n",
       "      <td>-1.0</td>\n",
       "      <td>-1.0</td>\n",
       "      <td>-1.0</td>\n",
       "      <td>-12.0</td>\n",
       "      <td>4.0</td>\n",
       "      <td>...</td>\n",
       "      <td>6.0</td>\n",
       "      <td>-3.0</td>\n",
       "      <td>0.0</td>\n",
       "      <td>1.0</td>\n",
       "      <td>1.0</td>\n",
       "      <td>0.0</td>\n",
       "      <td>0.0</td>\n",
       "      <td>0.0</td>\n",
       "      <td>0.0</td>\n",
       "      <td>0.0</td>\n",
       "    </tr>\n",
       "    <tr>\n",
       "      <th>2018-03-02 00:00:00</th>\n",
       "      <td>-2.0</td>\n",
       "      <td>-1.0</td>\n",
       "      <td>3.0</td>\n",
       "      <td>17.0</td>\n",
       "      <td>-3.0</td>\n",
       "      <td>-5.0</td>\n",
       "      <td>7.0</td>\n",
       "      <td>-2.0</td>\n",
       "      <td>-8.0</td>\n",
       "      <td>8.0</td>\n",
       "      <td>...</td>\n",
       "      <td>6.0</td>\n",
       "      <td>0.0</td>\n",
       "      <td>0.0</td>\n",
       "      <td>-12.0</td>\n",
       "      <td>2.0</td>\n",
       "      <td>1.0</td>\n",
       "      <td>0.0</td>\n",
       "      <td>0.0</td>\n",
       "      <td>0.0</td>\n",
       "      <td>0.0</td>\n",
       "    </tr>\n",
       "    <tr>\n",
       "      <th>2018-03-02 12:00:00</th>\n",
       "      <td>-4.0</td>\n",
       "      <td>15.0</td>\n",
       "      <td>5.0</td>\n",
       "      <td>32.0</td>\n",
       "      <td>0.0</td>\n",
       "      <td>-14.0</td>\n",
       "      <td>10.0</td>\n",
       "      <td>0.0</td>\n",
       "      <td>-5.0</td>\n",
       "      <td>6.0</td>\n",
       "      <td>...</td>\n",
       "      <td>20.0</td>\n",
       "      <td>1.0</td>\n",
       "      <td>0.0</td>\n",
       "      <td>-14.0</td>\n",
       "      <td>21.0</td>\n",
       "      <td>-1.0</td>\n",
       "      <td>0.0</td>\n",
       "      <td>0.0</td>\n",
       "      <td>0.0</td>\n",
       "      <td>0.0</td>\n",
       "    </tr>\n",
       "    <tr>\n",
       "      <th>2018-03-03 00:00:00</th>\n",
       "      <td>-1.0</td>\n",
       "      <td>9.0</td>\n",
       "      <td>3.0</td>\n",
       "      <td>34.0</td>\n",
       "      <td>7.0</td>\n",
       "      <td>-4.0</td>\n",
       "      <td>19.0</td>\n",
       "      <td>-7.0</td>\n",
       "      <td>-14.0</td>\n",
       "      <td>14.0</td>\n",
       "      <td>...</td>\n",
       "      <td>14.0</td>\n",
       "      <td>3.0</td>\n",
       "      <td>0.0</td>\n",
       "      <td>-11.0</td>\n",
       "      <td>2.0</td>\n",
       "      <td>3.0</td>\n",
       "      <td>0.0</td>\n",
       "      <td>0.0</td>\n",
       "      <td>0.0</td>\n",
       "      <td>0.0</td>\n",
       "    </tr>\n",
       "    <tr>\n",
       "      <th>2018-03-03 12:00:00</th>\n",
       "      <td>5.0</td>\n",
       "      <td>2.0</td>\n",
       "      <td>5.0</td>\n",
       "      <td>30.0</td>\n",
       "      <td>6.0</td>\n",
       "      <td>-8.0</td>\n",
       "      <td>24.0</td>\n",
       "      <td>-3.0</td>\n",
       "      <td>-24.0</td>\n",
       "      <td>17.0</td>\n",
       "      <td>...</td>\n",
       "      <td>13.0</td>\n",
       "      <td>6.0</td>\n",
       "      <td>0.0</td>\n",
       "      <td>-11.0</td>\n",
       "      <td>6.0</td>\n",
       "      <td>-1.0</td>\n",
       "      <td>0.0</td>\n",
       "      <td>0.0</td>\n",
       "      <td>0.0</td>\n",
       "      <td>0.0</td>\n",
       "    </tr>\n",
       "    <tr>\n",
       "      <th>2018-03-04 00:00:00</th>\n",
       "      <td>11.0</td>\n",
       "      <td>5.0</td>\n",
       "      <td>5.0</td>\n",
       "      <td>22.0</td>\n",
       "      <td>7.0</td>\n",
       "      <td>-5.0</td>\n",
       "      <td>20.0</td>\n",
       "      <td>3.0</td>\n",
       "      <td>-19.0</td>\n",
       "      <td>17.0</td>\n",
       "      <td>...</td>\n",
       "      <td>16.0</td>\n",
       "      <td>7.0</td>\n",
       "      <td>-1.0</td>\n",
       "      <td>-12.0</td>\n",
       "      <td>7.0</td>\n",
       "      <td>-2.0</td>\n",
       "      <td>1.0</td>\n",
       "      <td>0.0</td>\n",
       "      <td>0.0</td>\n",
       "      <td>0.0</td>\n",
       "    </tr>\n",
       "    <tr>\n",
       "      <th>2018-03-04 12:00:00</th>\n",
       "      <td>6.0</td>\n",
       "      <td>2.0</td>\n",
       "      <td>-1.0</td>\n",
       "      <td>27.0</td>\n",
       "      <td>7.0</td>\n",
       "      <td>-12.0</td>\n",
       "      <td>26.0</td>\n",
       "      <td>-1.0</td>\n",
       "      <td>-17.0</td>\n",
       "      <td>19.0</td>\n",
       "      <td>...</td>\n",
       "      <td>13.0</td>\n",
       "      <td>7.0</td>\n",
       "      <td>1.0</td>\n",
       "      <td>-11.0</td>\n",
       "      <td>11.0</td>\n",
       "      <td>-2.0</td>\n",
       "      <td>1.0</td>\n",
       "      <td>0.0</td>\n",
       "      <td>0.0</td>\n",
       "      <td>0.0</td>\n",
       "    </tr>\n",
       "    <tr>\n",
       "      <th>2018-03-05 00:00:00</th>\n",
       "      <td>-3.0</td>\n",
       "      <td>-8.0</td>\n",
       "      <td>-1.0</td>\n",
       "      <td>20.0</td>\n",
       "      <td>5.0</td>\n",
       "      <td>-11.0</td>\n",
       "      <td>33.0</td>\n",
       "      <td>-15.0</td>\n",
       "      <td>-15.0</td>\n",
       "      <td>17.0</td>\n",
       "      <td>...</td>\n",
       "      <td>-5.0</td>\n",
       "      <td>2.0</td>\n",
       "      <td>2.0</td>\n",
       "      <td>-3.0</td>\n",
       "      <td>-17.0</td>\n",
       "      <td>0.0</td>\n",
       "      <td>5.0</td>\n",
       "      <td>0.0</td>\n",
       "      <td>0.0</td>\n",
       "      <td>0.0</td>\n",
       "    </tr>\n",
       "  </tbody>\n",
       "</table>\n",
       "<p>8 rows × 767 columns</p>\n",
       "</div>"
      ],
      "text/plain": [
       "start station id     72    79    82    83    119   120   127   128   143   \\\n",
       "2018-03-01 12:00:00  -4.0  10.0  10.0  30.0  -1.0  -1.0  -1.0  -1.0 -12.0   \n",
       "2018-03-02 00:00:00  -2.0  -1.0   3.0  17.0  -3.0  -5.0   7.0  -2.0  -8.0   \n",
       "2018-03-02 12:00:00  -4.0  15.0   5.0  32.0   0.0 -14.0  10.0   0.0  -5.0   \n",
       "2018-03-03 00:00:00  -1.0   9.0   3.0  34.0   7.0  -4.0  19.0  -7.0 -14.0   \n",
       "2018-03-03 12:00:00   5.0   2.0   5.0  30.0   6.0  -8.0  24.0  -3.0 -24.0   \n",
       "2018-03-04 00:00:00  11.0   5.0   5.0  22.0   7.0  -5.0  20.0   3.0 -19.0   \n",
       "2018-03-04 12:00:00   6.0   2.0  -1.0  27.0   7.0 -12.0  26.0  -1.0 -17.0   \n",
       "2018-03-05 00:00:00  -3.0  -8.0  -1.0  20.0   5.0 -11.0  33.0 -15.0 -15.0   \n",
       "\n",
       "start station id     144   ...   3660  3661  3662  3663  3664  3668  3669  \\\n",
       "2018-03-01 12:00:00   4.0  ...    6.0  -3.0   0.0   1.0   1.0   0.0   0.0   \n",
       "2018-03-02 00:00:00   8.0  ...    6.0   0.0   0.0 -12.0   2.0   1.0   0.0   \n",
       "2018-03-02 12:00:00   6.0  ...   20.0   1.0   0.0 -14.0  21.0  -1.0   0.0   \n",
       "2018-03-03 00:00:00  14.0  ...   14.0   3.0   0.0 -11.0   2.0   3.0   0.0   \n",
       "2018-03-03 12:00:00  17.0  ...   13.0   6.0   0.0 -11.0   6.0  -1.0   0.0   \n",
       "2018-03-04 00:00:00  17.0  ...   16.0   7.0  -1.0 -12.0   7.0  -2.0   1.0   \n",
       "2018-03-04 12:00:00  19.0  ...   13.0   7.0   1.0 -11.0  11.0  -2.0   1.0   \n",
       "2018-03-05 00:00:00  17.0  ...   -5.0   2.0   2.0  -3.0 -17.0   0.0   5.0   \n",
       "\n",
       "start station id     3671  3672  3674  \n",
       "2018-03-01 12:00:00   0.0   0.0   0.0  \n",
       "2018-03-02 00:00:00   0.0   0.0   0.0  \n",
       "2018-03-02 12:00:00   0.0   0.0   0.0  \n",
       "2018-03-03 00:00:00   0.0   0.0   0.0  \n",
       "2018-03-03 12:00:00   0.0   0.0   0.0  \n",
       "2018-03-04 00:00:00   0.0   0.0   0.0  \n",
       "2018-03-04 12:00:00   0.0   0.0   0.0  \n",
       "2018-03-05 00:00:00   0.0   0.0   0.0  \n",
       "\n",
       "[8 rows x 767 columns]"
      ]
     },
     "execution_count": 9,
     "metadata": {},
     "output_type": "execute_result"
    }
   ],
   "source": [
    "# Prepera datasets for later working\n",
    "data_c = count(2018, 3, 1, 5)\n",
    "data_a = data_c.reset_index(drop=True)\n",
    "data2 = pd.read_csv(\"201803_citibikenyc_tripdata.csv\", usecols=['start station id', 'start station latitude', 'start station longitude','start station name'])\n",
    "station_lo = data2.drop_duplicates()\n",
    "data_b = station_lo.merge(data_a, how='left', on='start station id')\n",
    "station = station_lo\n",
    "predict = data_c.drop(['start station id'], axis=1).transpose()\n",
    "predict"
   ]
  },
  {
   "cell_type": "code",
   "execution_count": 10,
   "metadata": {},
   "outputs": [
    {
     "data": {
      "text/html": [
       "<iframe id=\"igraph\" scrolling=\"no\" style=\"border:none;\" seamless=\"seamless\" src=\"https://plot.ly/~shy950521/2.embed\" height=\"525px\" width=\"100%\"></iframe>"
      ],
      "text/plain": [
       "<plotly.tools.PlotlyDisplay object>"
      ]
     },
     "execution_count": 10,
     "metadata": {},
     "output_type": "execute_result"
    }
   ],
   "source": [
    "mapbox_access_token = 'pk.eyJ1IjoiY2FpdGxpbnNzcyIsImEiOiJjamdiZjZ5NXoxaTVtMzRwamM1YThsdzZsIn0.PkCNmrc0xc0fXQiG-vI1EQ'\n",
    "\n",
    "trace2 = Scattermapbox(\n",
    "    lat = data_b[\"start station latitude\"],\n",
    "    lon = data_b[\"start station longitude\"],\n",
    "    text = data_b[\"start station name\"],\n",
    "    mode='markers',\n",
    "    marker=dict(\n",
    "        size='10',\n",
    "        color = data_b.iloc[:,4] ,\n",
    "        colorscale='Viridis',\n",
    "        showscale=True,\n",
    "        opacity = 0.8\n",
    "    )\n",
    ")\n",
    "data = [trace2]\n",
    "layout = Layout(\n",
    "    xaxis=dict(\n",
    "        range=[40.67, 40.68]\n",
    "    ),\n",
    "    yaxis=dict(\n",
    "        range=[-74.02, -73.95]\n",
    "    )\n",
    ")\n",
    "fig = Figure(data=data, layout=layout)\n",
    "py.iplot(fig, filename='Traffic Network Flow in NY')"
   ]
  },
  {
   "cell_type": "markdown",
   "metadata": {},
   "source": [
    "### Interactivity\n",
    "We choose four days as an example from March 1st to March 4th to demo the interaction. We use the Integer Slider as the interaction tool. We count the flows every 12 hours so the minimum is 4 and the maximum is 12 which includes four days. When moving the slider bar, the result of our scatter map will also change.\n",
    "### Map Visualization Tool\n",
    "We use Mapbox maps in Plotly with a public Mapbox Access Token to call map for our dataset. To plot the scatter station on the map, we use Scattermapbox method. \n",
    "### Plot\n",
    "The darker the points is, the number of flows of a station is larger."
   ]
  },
  {
   "cell_type": "code",
   "execution_count": 31,
   "metadata": {},
   "outputs": [
    {
     "data": {
      "application/vnd.jupyter.widget-view+json": {
       "model_id": "1bebef9cf7784bac81068c0a0ad15d68",
       "version_major": 2,
       "version_minor": 0
      },
      "text/plain": [
       "HBox(children=(IntSlider(value=1, continuous_update=False, description='Test:', max=8, min=1),))"
      ]
     },
     "metadata": {},
     "output_type": "display_data"
    },
    {
     "data": {
      "application/vnd.jupyter.widget-view+json": {
       "model_id": "2ca34096f9cf4bdcb7a4bd56a8bc6b40",
       "version_major": 2,
       "version_minor": 0
      },
      "text/plain": [
       "GraphWidget()"
      ]
     },
     "metadata": {},
     "output_type": "display_data"
    }
   ],
   "source": [
    "month = widgets.IntSlider(\n",
    "    value=1,\n",
    "    min=1,\n",
    "    max=8,\n",
    "    step=1,\n",
    "    description='Test:',\n",
    "    disabled=False,\n",
    "    continuous_update=False,\n",
    "    orientation='horizontal',\n",
    "    readout=True,\n",
    "    readout_format='d'\n",
    ")\n",
    "\n",
    "# out=widgets.Output()\n",
    "container = widgets.HBox(children=[month] )\n",
    "g = GraphWidget('https://plot.ly/~shy950521/2')\n",
    "\n",
    "def response(change):\n",
    "    \n",
    "    g.restyle({'marker.color': [data_b.iloc[:,month.value+3]] })\n",
    "#     print(month.value)\n",
    "\n",
    "month.observe(response, names=\"value\")\n",
    "\n",
    "# from ipywidgets import IntSlider\n",
    "# from ipywidgets.embed import embed_minimal_html\n",
    "\n",
    "# # slider = IntSlider(value=40)\n",
    "# embed_minimal_html('export.html', views=[g], title='Widgets export')\n",
    "# with out:\n",
    "\n",
    "display(container)\n",
    "# container2 = widgets.HBox([origin, textbox])\n",
    "# display(container2)\n",
    "display(g)\n",
    "# out\n"
   ]
  },
  {
   "cell_type": "markdown",
   "metadata": {},
   "source": [
    "<h1>Redistribution Graph</h1>\n",
    "### Motivation\n",
    "With the first graph, we can easily see the bikes flow in New York city. In the real-world, it's useful to redistribute the bikes to rechieve a better balance. For example, bikes in low traffic area could be redistributed to areas with higher demand. This graph shows the redistribution way of bikes in New York city.\n",
    "### Algorithm\n",
    "The Minimum-cost flow problem is used to accomplish the bikes redistribution. The flow network can be regarded as a directed graph and the movement of bikes could be solved with linear programming. We used networkx package to implement the minimum-cost flow problem in Plotly.\n",
    "### Visualization Tool\n",
    "Here we use Plotly scatter plot to represent the flows between stations. We first used matplotlib and failed when \n",
    "we tried to draw all the details as well as the station dots on one plot: that is totally a mess. So we moved on\n",
    "to plotly which shows a great interactivy performance. Now, only the dots would be shown on this plot at first. \n",
    "When the mouse hovers on a dot, the details of this dot such as the location and current flow situation would then \n",
    "be shown. \n",
    "### Center Station\n",
    "Here we set a center station to serve our flow optimization plan. Center station plays an indispensable role during\n",
    "time periods like morning rush hour, when every station is experiencing strong outflow or inflow. Center station serves supplying or takeing back unlimited number of bikes during peak time period.\n",
    "### Station Dot\n",
    "The larger dots in this plot are those stations whose number of bike inflows or outflows over 20. The color of each station dot associates with its current flow number, the specific color range could be read through right color bar.\n",
    "Users can read details including current station location and current bike flow number.\n",
    "### Flow Dot and Line\n",
    "The smaller dots in this plot represent balanced flows between stations, which connect two stations with lines. \n",
    "The color of each station dot associates with its balanced flow number, the specific color range could be read through left color bar. Users can read details including start flow station, end flow station, bike flow number."
   ]
  },
  {
   "cell_type": "code",
   "execution_count": 12,
   "metadata": {},
   "outputs": [
    {
     "name": "stdout",
     "output_type": "stream",
     "text": [
      "168\n",
      "217\n",
      "236\n",
      "239\n",
      "243\n",
      "258\n",
      "281\n",
      "284\n",
      "301\n",
      "308\n",
      "324\n",
      "327\n",
      "336\n",
      "339\n",
      "356\n",
      "377\n",
      "382\n",
      "391\n",
      "396\n",
      "399\n",
      "412\n",
      "414\n",
      "416\n",
      "420\n",
      "422\n",
      "432\n",
      "433\n",
      "436\n",
      "438\n",
      "445\n",
      "462\n",
      "481\n",
      "482\n",
      "487\n",
      "490\n",
      "497\n",
      "528\n",
      "539\n",
      "2000\n",
      "3096\n",
      "3152\n",
      "3160\n",
      "3161\n",
      "3164\n",
      "3165\n",
      "3177\n",
      "3232\n",
      "3236\n",
      "3283\n",
      "3285\n",
      "3295\n",
      "3349\n",
      "3354\n",
      "3427\n",
      "3461\n",
      "3536\n",
      "3538\n",
      "3539\n",
      "3583\n",
      "3641\n",
      "40.7305885185\n"
     ]
    }
   ],
   "source": [
    "# Generate a directed network using networkx\n",
    "G = nx.DiGraph()\n",
    "G_flow = nx.DiGraph()\n",
    "time = 1\n",
    "id_list = []\n",
    "sum = 0\n",
    "pos_dic ={}\n",
    "lab_dic = {}\n",
    "size_list = []\n",
    "color_list = []\n",
    "center_x = 0\n",
    "center_y = 0\n",
    "col_len = predict.shape[1]\n",
    "for i in range(col_len):\n",
    "    temp_id = predict.iloc[:, i].name\n",
    "    spam = int(predict.iloc[time, i])\n",
    "    if (abs(spam)>20):\n",
    "        print(temp_id)\n",
    "        temp_station = station[(station['start station id'] == int(temp_id))]\n",
    "        temp_lan = temp_station['start station latitude'].iloc[0]\n",
    "        temp_long = temp_station['start station longitude'].iloc[0]\n",
    "        temp_name = temp_station['start station name'].iloc[0]\n",
    "    \n",
    "        G.add_node(temp_id, x=temp_lan, y=temp_long, spam=spam, label=temp_name)\n",
    "        G_flow.add_node(temp_id, x=temp_lan, y=temp_long, spam=spam, label=temp_name)\n",
    "        id_list.append(temp_id)\n",
    "        sum += spam\n",
    "        pos_dic[temp_id] = [temp_lan, temp_long]\n",
    "        lab_dic[temp_id] = temp_name\n",
    "        size_list.append(abs(spam))\n",
    "        if predict.iloc[time, i] >=0:\n",
    "            color = 'r'\n",
    "        else:\n",
    "            color = 'b'\n",
    "        color_list.append(color)\n",
    "        color_list.append(color)\n",
    "        center_x += temp_lan\n",
    "        center_y += temp_long\n",
    "    else:\n",
    "        col_len -= 1\n",
    "center_lan = center_x/col_len\n",
    "center_long = center_y/col_len\n",
    "print(center_lan)\n",
    "G.add_node(10000, x=center_lan, y=center_long, spam=0 - sum)\n",
    "G_flow.add_node(10000, x=center_lan, y=center_long, spam=0 - sum, label=\"center\")\n",
    "id_list.append(10000)\n",
    "pos_dic[10000] = [center_lan, center_long]\n",
    "lab_dic[10000] = 'center'\n",
    "size_list.append(0 - sum)\n",
    "color_list.append('g')\n",
    "for i in range(len(id_list)):\n",
    "    last = id_list.pop()\n",
    "    if len(id_list) == 0:\n",
    "        break\n",
    "    for j in range(len(id_list)):\n",
    "        a = np.sqrt(np.square(G.node[last]['x'] - G.node[id_list[j]]['x']) + np.square(G.node[last]['y'] - G.node[id_list[j]]['y']))\n",
    "        b = int(a * 1000)\n",
    "        G.add_edge(last, id_list[j], cost=b)\n",
    "        G.add_edge(id_list[j], last, cost=b)"
   ]
  },
  {
   "cell_type": "code",
   "execution_count": 27,
   "metadata": {},
   "outputs": [
    {
     "data": {
      "text/plain": [
       "'<iframe id=\"igraph\" scrolling=\"no\" style=\"border:none;\" seamless=\"seamless\" src=\"https://plot.ly/~shy950521/2.embed\" height=\"525\" width=\"100%\"></iframe>'"
      ]
     },
     "execution_count": 27,
     "metadata": {},
     "output_type": "execute_result"
    }
   ],
   "source": [
    "# apply Minimum-cost flow algorithm to the network\n",
    "flowCost, flowDict = nx.network_simplex(G, demand='spam',weight='cost')\n",
    "all_df = False\n",
    "flow_label = {}\n",
    "for i in flowDict:\n",
    "    for j in flowDict[i]:\n",
    "        if flowDict[i][j] == 0:\n",
    "            continue\n",
    "        try:\n",
    "            start_station = station[(station['start station id'] == int(i))]\n",
    "            start_lan = start_station['start station latitude'].iloc[0]\n",
    "            start_long = start_station['start station longitude'].iloc[0]\n",
    "            start_name = start_station['start station name'].iloc[0]\n",
    "        except:\n",
    "            start_lan = center_lan\n",
    "            start_long = center_long\n",
    "            start_name = 'center'\n",
    "        try:\n",
    "            stop_station = station[(station['start station id'] == int(j))]\n",
    "            stop_lan = stop_station['start station latitude'].iloc[0]\n",
    "            stop_long = stop_station['start station longitude'].iloc[0]\n",
    "            stop_name = stop_station['start station name'].iloc[0]\n",
    "        except:\n",
    "            stop_lan = center_lan\n",
    "            stop_long = center_long\n",
    "            stop_name = 'center'\n",
    "\n",
    "        data = np.array([i,start_lan,start_long,start_name,j,stop_lan,stop_long,stop_name,flowDict[i][j]])\n",
    "        s = pd.Series(data, index=['start', 'start_lan','start_long','star_name','end','end_lan','end_long','end_name','weight'])\n",
    "        G_flow.add_edge(i, j,weight=flowDict[i][j])\n",
    "        flow_label[i,j] = flowDict[i][j]/100\n",
    "        if all_df is False:\n",
    "            all_df = s\n",
    "        else:\n",
    "            all_df = pd.concat([all_df, s], join='outer', axis=1)\n",
    "min_flow = all_df.transpose()\n",
    "# print(min_flow)\n",
    "# draw a basic map with matplotlib\n",
    "nx.draw_networkx_labels(G_flow, pos = pos_dic, labels=lab_dic, font_size=15)\n",
    "nx.draw_networkx_nodes(G_flow, pos=pos_dic, node_size= size_list,node_color=color_list)\n",
    "nx.draw_networkx_edges(G_flow, pos=pos_dic, width=1)\n",
    "nx.draw_networkx_edge_labels(G_flow, pos=pos_dic, edge_labels=flow_label)\n",
    "# # plt.show()\n",
    "import plotly.tools as tls\n",
    "\n",
    "# tls.get_embed('https://plot.ly/~shy950521/2')"
   ]
  },
  {
   "cell_type": "code",
   "execution_count": 14,
   "metadata": {},
   "outputs": [
    {
     "data": {
      "text/html": [
       "<iframe id=\"igraph\" scrolling=\"no\" style=\"border:none;\" seamless=\"seamless\" src=\"https://plot.ly/~shy950521/4.embed\" height=\"525px\" width=\"100%\"></iframe>"
      ],
      "text/plain": [
       "<plotly.tools.PlotlyDisplay object>"
      ]
     },
     "execution_count": 14,
     "metadata": {},
     "output_type": "execute_result"
    }
   ],
   "source": [
    "\n",
    "edge_trace = Scatter(\n",
    "    x=[],\n",
    "    y=[],\n",
    "    text=[],\n",
    "    line=Line(width=0.5,color='#888',shape = \"spline\"),\n",
    "    hoverinfo='none',\n",
    "    mode='lines')\n",
    "\n",
    "edge_info = Scatter(\n",
    "    x=[],\n",
    "    y=[],\n",
    "    text=[],\n",
    "    mode='markers',\n",
    "    hoverinfo='text',\n",
    "    marker=Marker(\n",
    "        showscale=True,\n",
    "        # colorscale options\n",
    "        # 'Greys' | 'Greens' | 'Bluered' | 'Hot' | 'Picnic' | 'Portland' |\n",
    "        # Jet' | 'RdBu' | 'Blackbody' | 'Earth' | 'Electric' | 'YIOrRd' | 'YIGnBu'\n",
    "        colorscale='Hot',\n",
    "        reversescale=True,\n",
    "        color=[],\n",
    "        size=7,\n",
    "        colorbar=dict(\n",
    "            thickness=15,\n",
    "            title='flow',\n",
    "            xanchor='left',\n",
    "            titleside='right',\n",
    "            x=0\n",
    "        ),\n",
    "        line=dict(width=1))\n",
    ")\n",
    "\n",
    "for edge in G_flow.edges():\n",
    "    x0= G_flow.node[edge[0]]['x']\n",
    "    y0= G_flow.node[edge[0]]['y']\n",
    "    x1= G_flow.node[edge[1]]['x']\n",
    "    y1= G_flow.node[edge[1]]['y']\n",
    "    edge_trace['x'] += [x0, x1, None]\n",
    "    edge_trace['y'] += [y0, y1, None]\n",
    "    edge_info['marker']['color'].append(G_flow[edge[0]][edge[1]]['weight'])\n",
    "    edge_info['x'].append((float(x0)+float(x1))/2)\n",
    "    edge_info['y'].append((float(y0)+float(y1))/2)\n",
    "    edge_text = \"From \"+ str(G_flow.node[edge[0]]['label']) + \" to \"+str(G_flow.node[edge[1]]['label'])+\" ---- \"+str(G_flow[edge[0]][edge[1]]['weight'])\n",
    "    edge_info['text'].append(edge_text)\n",
    "\n",
    "node_trace = Scatter(\n",
    "    x=[],\n",
    "    y=[],\n",
    "    text=[],\n",
    "    mode='markers',\n",
    "    hoverinfo='text',\n",
    "    marker=Marker(\n",
    "        showscale=True,\n",
    "        # colorscale options\n",
    "        # 'Greys' | 'Greens' | 'Bluered' | 'Hot' | 'Picnic' | 'Portland' |\n",
    "        # Jet' | 'RdBu' | 'Blackbody' | 'Earth' | 'Electric' | 'YIOrRd' | 'YIGnBu'\n",
    "        colorscale='YIGnBu',\n",
    "        reversescale=True,\n",
    "        color=[],\n",
    "        size=14,\n",
    "        colorbar=dict(\n",
    "            thickness=15,\n",
    "            title='stock',\n",
    "            xanchor='left',\n",
    "            titleside='right'\n",
    "        ),\n",
    "        line=dict(width=1)))\n",
    "\n",
    "for node in G_flow.nodes():\n",
    "    x = G.node[node]['x']\n",
    "    y = G.node[node]['y']\n",
    "    node_trace['x'].append(x)\n",
    "    node_trace['y'].append(y)\n",
    "    node_trace['marker']['color'].append(G_flow.node[node]['spam'])\n",
    "    node_info = G_flow.node[node]['label']+': '+str(G_flow.node[node]['spam'])\n",
    "    node_trace['text'].append(node_info)\n",
    "\n",
    "    \n",
    "fig = Figure(data=Data([edge_trace, node_trace, edge_info]),\n",
    "             layout=Layout(\n",
    "                title='<br>Redistribution plan',\n",
    "                titlefont=dict(size=16),\n",
    "                showlegend=False,\n",
    "                hovermode='closest',\n",
    "                margin=dict(b=20,l=5,r=5,t=40),\n",
    "                xaxis=XAxis(showgrid=False, zeroline=False, showticklabels=False),\n",
    "                yaxis=YAxis(showgrid=False, zeroline=False, showticklabels=False)))\n",
    "\n",
    "py.iplot(fig, filename='networkx')"
   ]
  },
  {
   "cell_type": "code",
   "execution_count": 15,
   "metadata": {
    "collapsed": true
   },
   "outputs": [],
   "source": [
    "from ipywidgets import IntSlider\n",
    "from ipywidgets.embed import embed_minimal_html\n",
    "\n",
    "slider = IntSlider(value=40)\n",
    "embed_minimal_html('export.html', views=[slider], title='Widgets export')"
   ]
  }
 ],
 "metadata": {
  "kernelspec": {
   "display_name": "Python 3",
   "language": "python",
   "name": "python3"
  },
  "language_info": {
   "codemirror_mode": {
    "name": "ipython",
    "version": 3
   },
   "file_extension": ".py",
   "mimetype": "text/x-python",
   "name": "python",
   "nbconvert_exporter": "python",
   "pygments_lexer": "ipython3",
   "version": "3.6.1"
  },
  "widgets": {
   "application/vnd.jupyter.widget-state+json": {
    "state": {
     "080429982a474bec8689b64af48db86a": {
      "model_module": "@jupyter-widgets/controls",
      "model_module_version": "1.2.0",
      "model_name": "IntSliderModel",
      "state": {
       "continuous_update": false,
       "description": "Test:",
       "layout": "IPY_MODEL_1cb9d834f773413b91bbbdef77223920",
       "max": 15,
       "min": 1,
       "style": "IPY_MODEL_d1c9cf60e3304614820d704a13f3ae5d",
       "value": 2
      }
     },
     "0b40d7a092654906a30d9017296929c0": {
      "model_module": "@jupyter-widgets/base",
      "model_module_version": "1.0.0",
      "model_name": "LayoutModel",
      "state": {}
     },
     "0baea7c8dd714edaba4dcd95c1191f94": {
      "model_module": "@jupyter-widgets/controls",
      "model_module_version": "1.2.0",
      "model_name": "IntSliderModel",
      "state": {
       "continuous_update": false,
       "description": "Test:",
       "layout": "IPY_MODEL_3055d5195dab495fb28ba8b7a9fe54d0",
       "max": 15,
       "min": 1,
       "style": "IPY_MODEL_998b4e05156a4672ba5a329576ad10b0",
       "value": 9
      }
     },
     "0c703e1375f4461b8330e5bd961062d3": {
      "model_module": "@jupyter-widgets/controls",
      "model_module_version": "1.2.0",
      "model_name": "SliderStyleModel",
      "state": {
       "description_width": ""
      }
     },
     "0c7c26628aaf4ae49b1e9ebba0e33805": {
      "model_module": "@jupyter-widgets/base",
      "model_module_version": "1.0.0",
      "model_name": "DOMWidgetModel",
      "state": {
       "_graph_url": "https://plot.ly/~shy950521/2",
       "_message": "",
       "_model_name": "DOMWidgetModel",
       "_new_url": "",
       "_view_module": "graphWidget",
       "_view_module_version": "",
       "_view_name": "GraphView",
       "layout": "IPY_MODEL_0b40d7a092654906a30d9017296929c0"
      }
     },
     "0ecee4388a0b443f9060f898042087be": {
      "model_module": "@jupyter-widgets/controls",
      "model_module_version": "1.2.0",
      "model_name": "HBoxModel",
      "state": {
       "children": [
        "IPY_MODEL_9cbd061ba6db444692d011c7e42749d8"
       ],
       "layout": "IPY_MODEL_65c4c7bee127496297e8660696f88df1"
      }
     },
     "16c91638eabc4e1f8e347db1917a3db3": {
      "model_module": "@jupyter-widgets/controls",
      "model_module_version": "1.2.0",
      "model_name": "IntSliderModel",
      "state": {
       "continuous_update": false,
       "description": "Test:",
       "layout": "IPY_MODEL_b23670aa539d463aad07d79bba5ff326",
       "max": 15,
       "min": 1,
       "style": "IPY_MODEL_b62c8d30d92148eba68a0a083123f401",
       "value": 1
      }
     },
     "18709ba6a98d45fdb6561c29c6175137": {
      "model_module": "@jupyter-widgets/base",
      "model_module_version": "1.0.0",
      "model_name": "LayoutModel",
      "state": {}
     },
     "1b9d457b44f9438ab0b8f47ee9fab055": {
      "model_module": "@jupyter-widgets/controls",
      "model_module_version": "1.2.0",
      "model_name": "HBoxModel",
      "state": {
       "children": [
        "IPY_MODEL_080429982a474bec8689b64af48db86a"
       ],
       "layout": "IPY_MODEL_5c6713e93562481d8fc99d6820485d8d"
      }
     },
     "1cb9d834f773413b91bbbdef77223920": {
      "model_module": "@jupyter-widgets/base",
      "model_module_version": "1.0.0",
      "model_name": "LayoutModel",
      "state": {}
     },
     "28dee295d0804420a629271b78e5c8ee": {
      "model_module": "@jupyter-widgets/base",
      "model_module_version": "1.0.0",
      "model_name": "LayoutModel",
      "state": {}
     },
     "3055d5195dab495fb28ba8b7a9fe54d0": {
      "model_module": "@jupyter-widgets/base",
      "model_module_version": "1.0.0",
      "model_name": "LayoutModel",
      "state": {}
     },
     "3354bc1be2f94784bc3731a805ecfcf9": {
      "model_module": "@jupyter-widgets/base",
      "model_module_version": "1.0.0",
      "model_name": "DOMWidgetModel",
      "state": {
       "_graph_url": "https://plot.ly/~shy950521/2",
       "_message": "",
       "_model_name": "DOMWidgetModel",
       "_new_url": "",
       "_view_module": "graphWidget",
       "_view_module_version": "",
       "_view_name": "GraphView",
       "layout": "IPY_MODEL_b13b7765fff345aba06c5042e7b39c1e"
      }
     },
     "367f0a3ad74c4df5b01beea5d8228502": {
      "model_module": "@jupyter-widgets/controls",
      "model_module_version": "1.2.0",
      "model_name": "SliderStyleModel",
      "state": {
       "description_width": ""
      }
     },
     "397a4db85de7401cb431b97f822fe6d2": {
      "model_module": "@jupyter-widgets/controls",
      "model_module_version": "1.2.0",
      "model_name": "SliderStyleModel",
      "state": {
       "description_width": ""
      }
     },
     "399c0cc78ba64e868021a7031236ee28": {
      "model_module": "@jupyter-widgets/controls",
      "model_module_version": "1.2.0",
      "model_name": "IntSliderModel",
      "state": {
       "continuous_update": false,
       "description": "Test:",
       "layout": "IPY_MODEL_caef9bc20fbe4e4398fe235f3f7805fd",
       "max": 12,
       "min": 4,
       "style": "IPY_MODEL_feb12b6de79440dc943bab395f07b71e",
       "value": 4
      }
     },
     "3db5fba4719149fea351937a325d8433": {
      "model_module": "@jupyter-widgets/output",
      "model_module_version": "1.0.0",
      "model_name": "OutputModel",
      "state": {
       "layout": "IPY_MODEL_ce65190c99c8479fa69981828ee8fa22",
       "outputs": [
        {
         "data": {
          "application/vnd.jupyter.widget-view+json": {
           "model_id": "8d81c80d1a1742b0b77a26f74b172987",
           "version_major": 2,
           "version_minor": 0
          },
          "text/plain": "HBox(children=(IntSlider(value=4, continuous_update=False, description='Test:', max=12, min=4),))"
         },
         "metadata": {},
         "output_type": "display_data"
        },
        {
         "data": {
          "application/vnd.jupyter.widget-view+json": {
           "model_id": "bc4fb8f859c446bea4a00fd4b6796f54",
           "version_major": 2,
           "version_minor": 0
          },
          "text/plain": "GraphWidget()"
         },
         "metadata": {},
         "output_type": "display_data"
        }
       ]
      }
     },
     "3e4cca8d14a64e9ab5e68282c5ca374e": {
      "model_module": "@jupyter-widgets/base",
      "model_module_version": "1.0.0",
      "model_name": "LayoutModel",
      "state": {}
     },
     "3f7f31c53828405dabc7d4b50baee488": {
      "model_module": "@jupyter-widgets/controls",
      "model_module_version": "1.2.0",
      "model_name": "HBoxModel",
      "state": {
       "children": [
        "IPY_MODEL_9ce7df64c2234ddda07007fc2bf918af"
       ],
       "layout": "IPY_MODEL_6a99c5bc9f264c12abefc6992583f2a6"
      }
     },
     "4b2c5eb7b44d4a1ca6772e5df16887fc": {
      "model_module": "@jupyter-widgets/base",
      "model_module_version": "1.0.0",
      "model_name": "DOMWidgetModel",
      "state": {
       "_graph_url": "https://plot.ly/~shy950521/2",
       "_message": "{\"task\": \"restyle\", \"update\": {\"marker.color\": [[19.0, -6.0, 26.0, 1.0, 4.0, 38.0, 5.0, -5.0, -46.0, -1.0, -26.0, -36.0, 15.0, 11.0, 0.0, 5.0, 4.0, 20.0, 0.0, -1.0, -5.0, -5.0, -18.0, -72.0, -2.0, -2.0, -2.0, -1.0, -1.0, -5.0, -17.0, 11.0, 5.0, -31.0, -16.0, 57.0, 4.0, 9.0, 10.0, 11.0, 1.0, 8.0, 2.0, -6.0, 3.0, 12.0, -11.0, 6.0, 15.0, -9.0, -4.0, 5.0, 8.0, 5.0, 5.0, 13.0, 12.0, -2.0, 5.0, 24.0, 6.0, 55.0, 15.0, 7.0, 3.0, 11.0, 51.0, 20.0, 10.0, 4.0, -20.0, 25.0, -5.0, 12.0, -7.0, -39.0, -5.0, 21.0, 0.0, 2.0, 6.0, 12.0, -39.0, 10.0, 3.0, -5.0, 4.0, 27.0, -18.0, 1.0, -4.0, 21.0, -3.0, -3.0, 0.0, 19.0, -18.0, -37.0, -32.0, 2.0, 4.0, 56.0, -47.0, 12.0, 1.0, -11.0, 11.0, 3.0, -23.0, -7.0, 0.0, 1.0, -8.0, 1.0, -5.0, 19.0, 1.0, 18.0, -1.0, 6.0, 1.0, -1.0, 1.0, -2.0, -36.0, 2.0, 5.0, 17.0, -1.0, 4.0, 5.0, 1.0, 4.0, -10.0, 1.0, 8.0, 2.0, 8.0, 0.0, 16.0, -7.0, 43.0, 32.0, 9.0, 1.0, 4.0, 5.0, 0.0, 19.0, 11.0, 5.0, 13.0, 33.0, 1.0, -25.0, -2.0, 10.0, 2.0, 6.0, 0.0, -4.0, 9.0, -3.0, 22.0, 3.0, 13.0, 8.0, 34.0, 1.0, 0.0, -1.0, 22.0, 36.0, 2.0, -15.0, -1.0, -20.0, 22.0, -1.0, 14.0, 11.0, 24.0, 6.0, -3.0, 11.0, -16.0, -4.0, 5.0, -8.0, 17.0, -1.0, 9.0, 4.0, 25.0, 4.0, -8.0, -1.0, 7.0, 12.0, -7.0, -5.0, 10.0, 0.0, 1.0, 2.0, 19.0, -3.0, -4.0, 4.0, 19.0, -1.0, -3.0, -20.0, 1.0, -4.0, -189.0, 1.0, -27.0, 6.0, 7.0, 2.0, 6.0, -21.0, -5.0, 14.0, -4.0, 4.0, 2.0, -6.0, -2.0, 4.0, -21.0, -2.0, 4.0, -32.0, 4.0, 2.0, 3.0, 1.0, -1.0, 24.0, -1.0, 17.0, -7.0, 2.0, 4.0, 9.0, -1.0, 19.0, 3.0, 5.0, -1.0, 0.0, -63.0, -9.0, 2.0, -4.0, -1.0, -18.0, 20.0, -6.0, -11.0, 14.0, 17.0, 3.0, 45.0, -1.0, -1.0, -8.0, 70.0, 3.0, 4.0, -13.0, -18.0, -5.0, -5.0, 4.0, 0.0, -7.0, 7.0, 8.0, 1.0, -22.0, -3.0, -7.0, -1.0, -6.0, 6.0, -5.0, 11.0, -4.0, -5.0, -7.0, 20.0, -1.0, -12.0, -17.0, 0.0, 2.0, 14.0, -18.0, 0.0, 5.0, 5.0, 5.0, 2.0, -27.0, -5.0, 16.0, 2.0, 16.0, -8.0, -4.0, 0.0, -6.0, 17.0, -16.0, -4.0, 4.0, 1.0, -4.0, 9.0, 1.0, -2.0, 1.0, -8.0, -7.0, -16.0, -1.0, -30.0, 1.0, -41.0, -24.0, 1.0, -18.0, 3.0, 8.0, -42.0, 1.0, 5.0, -2.0, -3.0, 14.0, 11.0, -4.0, -11.0, 58.0, -19.0, -40.0, 2.0, -1.0, 12.0, -24.0, 0.0, -7.0, 18.0, 10.0, 0.0, -1.0, -6.0, -5.0, 2.0, -59.0, 12.0, -60.0, -27.0, -5.0, 11.0, 2.0, 1.0, -74.0, -3.0, 5.0, -35.0, 2.0, 2.0, 1.0, 1.0, 4.0, -8.0, 1.0, 6.0, 8.0, -11.0, 7.0, 16.0, -2.0, 25.0, 0.0, 0.0, -18.0, -8.0, 4.0, -20.0, -3.0, -8.0, 15.0, 6.0, 6.0, -12.0, 0.0, -7.0, 3.0, -2.0, -9.0, 0.0, 2.0, -68.0, 18.0, 4.0, 10.0, -4.0, -3.0, 14.0, -1.0, -11.0, -1.0, -3.0, -114.0, 2.0, 20.0, -31.0, 9.0, -2.0, 7.0, 9.0, 2.0, 1.0, 1.0, -3.0, 2.0, -25.0, -4.0, -7.0, -3.0, -1.0, 3.0, -1.0, -3.0, 3.0, 4.0, -21.0, 4.0, 12.0, 19.0, 43.0, -15.0, 0.0, -4.0, 6.0, 7.0, -36.0, -6.0, -62.0, 13.0, -4.0, -20.0, -6.0, 0.0, 2.0, -2.0, -20.0, 13.0, -4.0, 6.0, -1.0, -14.0, 28.0, 1.0, -8.0, 3.0, -2.0, -3.0, 1.0, 0.0, 5.0, 9.0, -1.0, 5.0, -11.0, 3.0, -3.0, -1.0, -13.0, -17.0, 6.0, 3.0, -2.0, 0.0, -6.0, -6.0, 2.0, -33.0, 4.0, 3.0, -4.0, 4.0, 3.0, -26.0, 0.0, 1.0, 1.0, 4.0, -2.0, 9.0, 3.0, 7.0, -10.0, 8.0, -4.0, 1.0, -10.0, 8.0, -2.0, 2.0, 1.0, -2.0, 1.0, 6.0, 6.0, 7.0, 0.0, -11.0, 3.0, -6.0, -2.0, 18.0, 7.0, 4.0, -27.0, 4.0, -4.0, -1.0, 1.0, -9.0, 1.0, 7.0, -3.0, -8.0, 0.0, -10.0, 6.0, 0.0, 0.0, -5.0, 1.0, -7.0, 14.0, 10.0, -4.0, 3.0, -1.0, -2.0, 18.0, 2.0, 5.0, -1.0, -2.0, 23.0, -10.0, -2.0, 1.0, 10.0, 1.0, 8.0, 2.0, 10.0, -3.0, 0.0, 3.0, 4.0, 5.0, 1.0, 1.0, 3.0, -6.0, 7.0, -14.0, -5.0, 0.0, 6.0, 0.0, 0.0, 2.0, -42.0, 1.0, 3.0, -1.0, -30.0, -4.0, -11.0, -2.0, 7.0, 10.0, -1.0, 0.0, 0.0, -2.0, 0.0, 8.0, 5.0, -12.0, -17.0, 0.0, -1.0, -8.0, 4.0, 0.0, 3.0, 1.0, 3.0, -3.0, 0.0, 5.0, 0.0, 14.0, 3.0, -3.0, 2.0, 2.0, 2.0, -1.0, 14.0, 4.0, 52.0, -1.0, -2.0, -2.0, 0.0, 14.0, 6.0, 28.0, 2.0, 17.0, 0.0, 1.0, 4.0, 2.0, 3.0, -9.0, 3.0, 1.0, -4.0, 5.0, 3.0, 7.0, 2.0, 6.0, -3.0, 0.0, 3.0, 2.0, -1.0, 7.0, 17.0, 1.0, 0.0, 3.0, 3.0, 7.0, 2.0, -10.0, -5.0, 1.0, 1.0, 11.0, -3.0, 0.0, 0.0, 5.0, -1.0, -1.0, 1.0, 1.0, 34.0, -8.0, 36.0, 7.0, -1.0, 0.0, 12.0, 5.0, 5.0, 2.0, -1.0, 2.0, -1.0, -23.0, 4.0, 10.0, -2.0, -1.0, -26.0, 3.0, 4.0, 8.0, 0.0, 7.0, 7.0, -5.0, -3.0, 6.0, -2.0, -21.0, -7.0, 10.0, 0.0, 7.0, -2.0, -6.0, -1.0, 9.0, -11.0, 4.0, 1.0, -11.0, 6.0, -1.0, 3.0, -5.0, -11.0, -8.0, -3.0, 1.0, -2.0, 1.0, 2.0, -1.0, 0.0, -2.0, -1.0, 9.0, -4.0, -6.0, 0.0, -25.0, 3.0, 3.0, -1.0, 2.0, 0.0, 8.0, 5.0, 1.0, 7.0, 2.0, 4.0, 4.0, -4.0, 8.0, 3.0, -3.0, 0.0, 2.0, 1.0, -3.0, 0.0, 0.0, 0.0, 0.0, 0.0, 6.0, 0.0, 0.0, 0.0, 0.0, 0.0]]}, \"graphId\": \"d57eb160-9f4d-4ca9-af8c-26646b7a3ba0\", \"uid\": \"9c8d024f-557a-4c7d-8504-e778f93a9b4b\"}",
       "_model_name": "DOMWidgetModel",
       "_new_url": "",
       "_view_module": "graphWidget",
       "_view_module_version": "",
       "_view_name": "GraphView",
       "layout": "IPY_MODEL_5a157cde840140fe88431b79bf121f51"
      }
     },
     "4c5b2400171a4a9d853817654f0dbedd": {
      "model_module": "@jupyter-widgets/base",
      "model_module_version": "1.0.0",
      "model_name": "LayoutModel",
      "state": {}
     },
     "4c7ae947e9c34052a9079d27c4a8ab58": {
      "model_module": "@jupyter-widgets/controls",
      "model_module_version": "1.2.0",
      "model_name": "SliderStyleModel",
      "state": {
       "description_width": ""
      }
     },
     "4f8b2f8252244b38aba433a3a5e346c6": {
      "model_module": "@jupyter-widgets/base",
      "model_module_version": "1.0.0",
      "model_name": "LayoutModel",
      "state": {}
     },
     "5038d3654bf240fab57442166a4c77ec": {
      "model_module": "@jupyter-widgets/base",
      "model_module_version": "1.0.0",
      "model_name": "LayoutModel",
      "state": {}
     },
     "519ad59d8c5740e09a231a66b32910ae": {
      "model_module": "@jupyter-widgets/output",
      "model_module_version": "1.0.0",
      "model_name": "OutputModel",
      "state": {
       "layout": "IPY_MODEL_c033054f5a5a4b929809cebd96de11df",
       "outputs": [
        {
         "data": {
          "application/vnd.jupyter.widget-view+json": {
           "model_id": "64c37a948b3a4529b8399a829640cf11",
           "version_major": 2,
           "version_minor": 0
          },
          "text/plain": "HBox(children=(IntSlider(value=1, continuous_update=False, description='Test:', max=15, min=1),))"
         },
         "metadata": {},
         "output_type": "display_data"
        },
        {
         "data": {
          "application/vnd.jupyter.widget-view+json": {
           "model_id": "c619e932c5d64b17a938130f5e89105b",
           "version_major": 2,
           "version_minor": 0
          },
          "text/plain": "GraphWidget()"
         },
         "metadata": {},
         "output_type": "display_data"
        }
       ]
      }
     },
     "52e7954ff5e64e8986e2970aa23c5edb": {
      "model_module": "@jupyter-widgets/base",
      "model_module_version": "1.0.0",
      "model_name": "LayoutModel",
      "state": {}
     },
     "54d18538de124727bea286bf31f0ccea": {
      "model_module": "@jupyter-widgets/controls",
      "model_module_version": "1.2.0",
      "model_name": "SliderStyleModel",
      "state": {
       "description_width": ""
      }
     },
     "55746e93b2fb4e9bbafe0f5afd808c58": {
      "model_module": "@jupyter-widgets/base",
      "model_module_version": "1.0.0",
      "model_name": "LayoutModel",
      "state": {}
     },
     "588a83ce90b94997a76e126290d5dce0": {
      "model_module": "@jupyter-widgets/base",
      "model_module_version": "1.0.0",
      "model_name": "LayoutModel",
      "state": {
       "height": "900px",
       "width": "1500px"
      }
     },
     "5a157cde840140fe88431b79bf121f51": {
      "model_module": "@jupyter-widgets/base",
      "model_module_version": "1.0.0",
      "model_name": "LayoutModel",
      "state": {}
     },
     "5c6713e93562481d8fc99d6820485d8d": {
      "model_module": "@jupyter-widgets/base",
      "model_module_version": "1.0.0",
      "model_name": "LayoutModel",
      "state": {}
     },
     "5e361427e6ff4c8091bc3cce44ae0797": {
      "model_module": "@jupyter-widgets/controls",
      "model_module_version": "1.2.0",
      "model_name": "IntSliderModel",
      "state": {
       "continuous_update": false,
       "description": "Test:",
       "layout": "IPY_MODEL_de252f97237b4d0ea89f6ffd4503e62a",
       "max": 12,
       "min": 4,
       "style": "IPY_MODEL_ab0ef2312f004d64a8f9261dfa08c89e",
       "value": 6
      }
     },
     "61d1224b3851406db4834ede0430c3da": {
      "model_module": "@jupyter-widgets/controls",
      "model_module_version": "1.2.0",
      "model_name": "SliderStyleModel",
      "state": {
       "description_width": ""
      }
     },
     "64c37a948b3a4529b8399a829640cf11": {
      "model_module": "@jupyter-widgets/controls",
      "model_module_version": "1.2.0",
      "model_name": "HBoxModel",
      "state": {
       "children": [
        "IPY_MODEL_0baea7c8dd714edaba4dcd95c1191f94"
       ],
       "layout": "IPY_MODEL_f8f21865978e4e9c85f5c18dce67ebb0"
      }
     },
     "65c4c7bee127496297e8660696f88df1": {
      "model_module": "@jupyter-widgets/base",
      "model_module_version": "1.0.0",
      "model_name": "LayoutModel",
      "state": {}
     },
     "6a99c5bc9f264c12abefc6992583f2a6": {
      "model_module": "@jupyter-widgets/base",
      "model_module_version": "1.0.0",
      "model_name": "LayoutModel",
      "state": {}
     },
     "6de70ca3493a474c9784729101a275eb": {
      "model_module": "@jupyter-widgets/base",
      "model_module_version": "1.0.0",
      "model_name": "LayoutModel",
      "state": {
       "height": "300px",
       "width": "400px"
      }
     },
     "7af73a878cb54db1aed5ae58e4aad8fe": {
      "model_module": "@jupyter-widgets/base",
      "model_module_version": "1.0.0",
      "model_name": "LayoutModel",
      "state": {
       "height": "700px",
       "width": "1500px"
      }
     },
     "7b1219da18a049e0b967902fa153e6ea": {
      "model_module": "@jupyter-widgets/base",
      "model_module_version": "1.0.0",
      "model_name": "LayoutModel",
      "state": {}
     },
     "8b886cfa98224d7988f8e4bb44689252": {
      "model_module": "@jupyter-widgets/base",
      "model_module_version": "1.0.0",
      "model_name": "DOMWidgetModel",
      "state": {
       "_graph_url": "https://plot.ly/~shy950521/2",
       "_message": "{\"task\": \"restyle\", \"update\": {\"marker.color\": [[14.0, 3.0, 36.0, 2.0, -20.0, 61.0, -10.0, -16.0, -57.0, -17.0, -26.0, -4.0, 15.0, 13.0, 2.0, 14.0, 14.0, -1.0, -2.0, -4.0, -6.0, 11.0, -16.0, -78.0, -26.0, -5.0, -32.0, 6.0, -19.0, -1.0, -41.0, 20.0, -5.0, -42.0, -46.0, 82.0, -18.0, -1.0, 20.0, 10.0, 2.0, -6.0, 3.0, 0.0, 18.0, 13.0, -19.0, 12.0, -18.0, -14.0, 17.0, 39.0, 3.0, -3.0, 2.0, -16.0, 4.0, -6.0, 4.0, 17.0, 7.0, 46.0, 14.0, 43.0, 5.0, 15.0, 69.0, -6.0, -2.0, -15.0, -17.0, -4.0, -9.0, 29.0, -3.0, -45.0, -1.0, -14.0, -3.0, 28.0, 17.0, 16.0, -46.0, 5.0, -24.0, -24.0, -14.0, 67.0, -24.0, 17.0, -5.0, 13.0, 2.0, 24.0, 7.0, 10.0, -15.0, -27.0, -37.0, 1.0, -2.0, 48.0, -32.0, -23.0, -9.0, 37.0, 10.0, -7.0, -40.0, -4.0, -17.0, 0.0, -10.0, 5.0, -4.0, -3.0, 14.0, -2.0, -52.0, -28.0, 9.0, 0.0, -22.0, -9.0, -23.0, 4.0, 39.0, 19.0, 47.0, -2.0, 18.0, -2.0, -8.0, -13.0, 10.0, 0.0, -142.0, 47.0, 1.0, 17.0, -20.0, 35.0, 47.0, -6.0, -5.0, -8.0, -2.0, 6.0, 3.0, 6.0, -3.0, 1.0, 27.0, -10.0, -22.0, -11.0, 13.0, 0.0, 7.0, 0.0, -2.0, -4.0, -35.0, 7.0, 18.0, 2.0, 4.0, -11.0, 37.0, 6.0, 7.0, -7.0, 70.0, -22.0, -19.0, 24.0, -13.0, 19.0, -1.0, 20.0, 10.0, 48.0, 13.0, -8.0, 25.0, -25.0, -7.0, 31.0, -28.0, 3.0, -2.0, 20.0, 2.0, 23.0, 0.0, -15.0, -2.0, -1.0, -8.0, -8.0, -9.0, 36.0, 14.0, -4.0, 3.0, 18.0, -4.0, -3.0, 5.0, 23.0, -1.0, -6.0, -22.0, 4.0, 15.0, -161.0, 25.0, -21.0, -13.0, 11.0, 5.0, 10.0, -24.0, 9.0, 16.0, -11.0, 3.0, 24.0, -9.0, 1.0, -1.0, -23.0, -4.0, 2.0, -20.0, 2.0, 32.0, 17.0, 7.0, 7.0, 13.0, -3.0, 23.0, 8.0, -2.0, -20.0, 15.0, 112.0, 110.0, 21.0, -1.0, -24.0, 0.0, -67.0, -24.0, 34.0, -6.0, -5.0, -22.0, 30.0, 21.0, -25.0, 6.0, 68.0, 7.0, 44.0, 18.0, -4.0, -8.0, 70.0, 7.0, 33.0, -11.0, -25.0, -18.0, -15.0, -5.0, 0.0, 0.0, 0.0, 2.0, 6.0, -4.0, -3.0, -10.0, 24.0, -17.0, -2.0, -3.0, 10.0, -11.0, -9.0, 19.0, 20.0, 9.0, -7.0, -24.0, 0.0, -4.0, 55.0, -15.0, 4.0, 2.0, -13.0, 17.0, -8.0, -28.0, -30.0, -28.0, -2.0, 1.0, -1.0, 2.0, 2.0, -3.0, 24.0, -27.0, -13.0, -9.0, -2.0, -7.0, 12.0, -8.0, -19.0, -2.0, -25.0, -34.0, 2.0, -3.0, -18.0, -22.0, -37.0, -35.0, -33.0, -25.0, -2.0, -20.0, -45.0, -3.0, 0.0, -6.0, 0.0, 0.0, -10.0, 6.0, -17.0, 99.0, -21.0, -29.0, 21.0, -1.0, 43.0, -34.0, -13.0, -9.0, 27.0, 0.0, -4.0, -12.0, -12.0, -1.0, 26.0, -57.0, -3.0, -80.0, -34.0, -10.0, -4.0, -6.0, 4.0, -111.0, -11.0, -17.0, -57.0, -17.0, 1.0, 0.0, 13.0, 3.0, 6.0, 36.0, 3.0, -4.0, -11.0, -18.0, -1.0, -8.0, 6.0, 30.0, -6.0, -20.0, -16.0, 17.0, -34.0, -7.0, -15.0, -4.0, 1.0, -6.0, -15.0, 24.0, -21.0, 35.0, -2.0, -17.0, -9.0, -1.0, -80.0, 21.0, -28.0, 43.0, -8.0, -2.0, 22.0, -2.0, -14.0, -4.0, -8.0, -98.0, 6.0, 18.0, -41.0, -16.0, -10.0, -8.0, -1.0, 26.0, 30.0, 1.0, 1.0, 5.0, -26.0, 0.0, -7.0, 20.0, -2.0, 0.0, -8.0, -8.0, -1.0, -16.0, -40.0, -1.0, -3.0, -6.0, 20.0, -9.0, 32.0, -10.0, -9.0, 25.0, -33.0, 10.0, -55.0, 10.0, -2.0, -37.0, -9.0, 25.0, 15.0, -3.0, -22.0, 16.0, -14.0, 15.0, -17.0, -26.0, 55.0, -19.0, 25.0, 2.0, -4.0, -4.0, 0.0, -9.0, -8.0, -14.0, 16.0, -1.0, -14.0, 2.0, -2.0, -13.0, -13.0, -24.0, -4.0, 1.0, -10.0, -12.0, -38.0, 2.0, 20.0, -34.0, 2.0, 11.0, -5.0, -3.0, 5.0, -29.0, -17.0, -2.0, 1.0, -6.0, 9.0, -15.0, 20.0, -5.0, -8.0, -22.0, -11.0, 1.0, 19.0, -3.0, -3.0, 20.0, -1.0, -2.0, 1.0, 18.0, -1.0, 2.0, 0.0, -13.0, 2.0, -12.0, -5.0, 5.0, 10.0, -2.0, -27.0, 5.0, 1.0, -2.0, -3.0, -20.0, -2.0, -9.0, -6.0, 12.0, 7.0, -6.0, -8.0, -1.0, 10.0, -14.0, -7.0, 29.0, 7.0, 2.0, -5.0, 1.0, 0.0, 137.0, 14.0, 13.0, 3.0, -3.0, -4.0, 12.0, -15.0, -8.0, 37.0, -2.0, -1.0, 3.0, -1.0, 8.0, -9.0, 1.0, -4.0, -5.0, 3.0, 0.0, -3.0, 8.0, -15.0, -2.0, -5.0, -8.0, 22.0, 0.0, -6.0, 17.0, -2.0, -37.0, -5.0, 18.0, -5.0, -35.0, -1.0, -13.0, -5.0, 2.0, 28.0, -4.0, -5.0, -7.0, -8.0, -6.0, 16.0, -2.0, -14.0, -15.0, 4.0, -3.0, 14.0, 3.0, 1.0, -5.0, 1.0, 16.0, 14.0, 1.0, 5.0, -1.0, 6.0, 2.0, -1.0, 9.0, 33.0, -3.0, 1.0, 13.0, -6.0, 43.0, 9.0, 5.0, -6.0, 0.0, 39.0, 3.0, 14.0, -2.0, 28.0, 0.0, 1.0, 0.0, -3.0, -1.0, -8.0, 1.0, 2.0, -4.0, -2.0, -1.0, 7.0, 29.0, 8.0, -6.0, 7.0, 3.0, 25.0, 38.0, 1.0, 12.0, 22.0, 8.0, 2.0, 1.0, -2.0, 6.0, -22.0, -4.0, 1.0, -5.0, 8.0, -3.0, -3.0, -2.0, 5.0, -1.0, -8.0, -4.0, -2.0, 32.0, -8.0, 39.0, -6.0, -3.0, 1.0, 11.0, 18.0, 4.0, 0.0, 0.0, 1.0, -3.0, -15.0, 1.0, 19.0, -4.0, 6.0, -11.0, 1.0, -1.0, 4.0, 0.0, 8.0, 4.0, -6.0, 1.0, 23.0, 0.0, -6.0, -4.0, 3.0, 0.0, 4.0, -7.0, -4.0, 2.0, 8.0, -10.0, 5.0, 2.0, -5.0, 6.0, 9.0, 3.0, -6.0, -8.0, -6.0, -3.0, -1.0, 0.0, 6.0, 8.0, 0.0, 2.0, 0.0, -2.0, 13.0, -2.0, -8.0, -2.0, -23.0, 2.0, 4.0, 1.0, 3.0, 0.0, 10.0, 3.0, 4.0, 6.0, 0.0, 2.0, 1.0, -4.0, 0.0, 4.0, -2.0, 0.0, 2.0, -1.0, -3.0, 1.0, 0.0, 0.0, 0.0, 0.0, 3.0, 0.0, 0.0, 0.0, 0.0, 0.0]]}, \"graphId\": \"d833c1b7-8382-4ce0-a891-3cbb323806b6\", \"uid\": \"ea0e188c-bf9e-4912-b083-99a11a7041fb\"}",
       "_model_name": "DOMWidgetModel",
       "_new_url": "",
       "_view_module": "graphWidget",
       "_view_module_version": "",
       "_view_name": "GraphView",
       "layout": "IPY_MODEL_d513ead3fd6640cca0b1580985ddb282"
      }
     },
     "8d81c80d1a1742b0b77a26f74b172987": {
      "model_module": "@jupyter-widgets/controls",
      "model_module_version": "1.2.0",
      "model_name": "HBoxModel",
      "state": {
       "children": [
        "IPY_MODEL_399c0cc78ba64e868021a7031236ee28"
       ],
       "layout": "IPY_MODEL_9c44d4e3804a412fa8dbad47e5fc6848"
      }
     },
     "901adcb75e25433ca514f1f6bb27d6f5": {
      "model_module": "@jupyter-widgets/base",
      "model_module_version": "1.0.0",
      "model_name": "LayoutModel",
      "state": {}
     },
     "998b4e05156a4672ba5a329576ad10b0": {
      "model_module": "@jupyter-widgets/controls",
      "model_module_version": "1.2.0",
      "model_name": "SliderStyleModel",
      "state": {
       "description_width": ""
      }
     },
     "9a45230cf9d54c7dae6c1d70587b475a": {
      "model_module": "@jupyter-widgets/controls",
      "model_module_version": "1.2.0",
      "model_name": "IntSliderModel",
      "state": {
       "continuous_update": false,
       "description": "Test:",
       "layout": "IPY_MODEL_901adcb75e25433ca514f1f6bb27d6f5",
       "max": 12,
       "min": 4,
       "style": "IPY_MODEL_54d18538de124727bea286bf31f0ccea",
       "value": 4
      }
     },
     "9c44d4e3804a412fa8dbad47e5fc6848": {
      "model_module": "@jupyter-widgets/base",
      "model_module_version": "1.0.0",
      "model_name": "LayoutModel",
      "state": {}
     },
     "9cbd061ba6db444692d011c7e42749d8": {
      "model_module": "@jupyter-widgets/controls",
      "model_module_version": "1.2.0",
      "model_name": "IntSliderModel",
      "state": {
       "continuous_update": false,
       "description": "Test:",
       "layout": "IPY_MODEL_4c5b2400171a4a9d853817654f0dbedd",
       "max": 12,
       "min": 4,
       "style": "IPY_MODEL_61d1224b3851406db4834ede0430c3da",
       "value": 7
      }
     },
     "9ce7df64c2234ddda07007fc2bf918af": {
      "model_module": "@jupyter-widgets/controls",
      "model_module_version": "1.2.0",
      "model_name": "IntSliderModel",
      "state": {
       "continuous_update": false,
       "description": "Test:",
       "layout": "IPY_MODEL_28dee295d0804420a629271b78e5c8ee",
       "max": 12,
       "min": 4,
       "style": "IPY_MODEL_0c703e1375f4461b8330e5bd961062d3",
       "value": 4
      }
     },
     "a48073dc1f324499b1350f24add3dec5": {
      "model_module": "@jupyter-widgets/base",
      "model_module_version": "1.0.0",
      "model_name": "DOMWidgetModel",
      "state": {
       "_graph_url": "https://plot.ly/~shy950521/2",
       "_message": "{\"task\": \"restyle\", \"update\": {\"marker.color\": [[13.0, -2.0, 5.0, -3.0, 7.0, 14.0, 24.0, -1.0, -35.0, -4.0, -17.0, -18.0, 17.0, -2.0, 5.0, -1.0, -2.0, 9.0, -3.0, -2.0, -16.0, 0.0, -3.0, -65.0, -5.0, -2.0, 1.0, -1.0, -2.0, -4.0, 3.0, 11.0, -4.0, -46.0, -14.0, 34.0, 7.0, 16.0, 3.0, 12.0, -15.0, 13.0, 2.0, -3.0, 2.0, 11.0, -3.0, 10.0, 8.0, 1.0, 9.0, 4.0, 2.0, 0.0, 5.0, 4.0, 7.0, -3.0, 6.0, 26.0, 4.0, 31.0, 12.0, 6.0, 3.0, 10.0, 46.0, 22.0, -1.0, 7.0, -19.0, 1.0, -4.0, 5.0, -4.0, -32.0, -2.0, 34.0, -4.0, 2.0, 15.0, 18.0, -33.0, 7.0, -1.0, -10.0, 2.0, 23.0, -26.0, -6.0, -1.0, 19.0, 2.0, -1.0, 4.0, 7.0, -7.0, -28.0, -21.0, 3.0, 2.0, 37.0, -22.0, 2.0, 6.0, -13.0, 14.0, 2.0, -12.0, -3.0, 10.0, 0.0, -9.0, 0.0, -4.0, 5.0, -2.0, 16.0, 57.0, -8.0, -2.0, -5.0, -5.0, -5.0, -39.0, -1.0, 8.0, 21.0, 0.0, 0.0, -2.0, 1.0, -1.0, 1.0, 5.0, 12.0, -2.0, 7.0, 2.0, 16.0, 8.0, -1.0, 25.0, 14.0, 7.0, 1.0, 6.0, 0.0, 27.0, 0.0, 3.0, 3.0, 26.0, 11.0, -6.0, -5.0, 14.0, -2.0, -5.0, 0.0, 0.0, 0.0, -4.0, 25.0, 5.0, 13.0, 11.0, 19.0, 3.0, 7.0, 9.0, 16.0, 26.0, 0.0, -16.0, -1.0, -12.0, 4.0, 2.0, 6.0, 15.0, 26.0, 5.0, 1.0, 17.0, 4.0, -6.0, 4.0, -11.0, 13.0, 1.0, 4.0, 6.0, 23.0, -1.0, -11.0, 0.0, 3.0, 5.0, 2.0, -4.0, 14.0, -3.0, 3.0, 2.0, 7.0, -3.0, 3.0, 0.0, -2.0, 0.0, -3.0, -17.0, 7.0, -16.0, -101.0, 1.0, -21.0, 7.0, 8.0, -9.0, -5.0, -14.0, -12.0, 9.0, 0.0, 3.0, -1.0, -6.0, -1.0, 3.0, -26.0, -2.0, 3.0, -26.0, -5.0, 4.0, 1.0, 2.0, 4.0, -10.0, -4.0, 15.0, -3.0, 9.0, 10.0, -1.0, -3.0, -17.0, -3.0, 1.0, 0.0, 2.0, -58.0, -11.0, 1.0, -2.0, -3.0, -1.0, 15.0, 2.0, -11.0, 8.0, 21.0, 2.0, 26.0, -3.0, -2.0, -7.0, 36.0, 2.0, 2.0, -7.0, -12.0, -13.0, -7.0, 0.0, -4.0, -2.0, -3.0, 2.0, 4.0, -14.0, -6.0, -6.0, 1.0, 2.0, 7.0, 7.0, 11.0, -4.0, -8.0, -5.0, 14.0, -1.0, -6.0, -16.0, 1.0, 5.0, 27.0, -7.0, -3.0, 5.0, 8.0, 10.0, -2.0, -17.0, -9.0, 26.0, -2.0, 17.0, 6.0, -6.0, -1.0, -2.0, 5.0, -8.0, -3.0, 1.0, 1.0, -3.0, 3.0, -4.0, -9.0, 0.0, -7.0, -17.0, -4.0, -2.0, 0.0, -3.0, -15.0, -21.0, -2.0, -14.0, 1.0, -5.0, -40.0, -1.0, 9.0, 0.0, -3.0, 0.0, 1.0, -20.0, -7.0, 68.0, -10.0, -24.0, 2.0, -1.0, 12.0, 10.0, -2.0, -10.0, 7.0, 3.0, -2.0, 1.0, -1.0, -2.0, 1.0, -42.0, 8.0, -36.0, -18.0, -3.0, 5.0, -5.0, -1.0, -53.0, -3.0, -2.0, -41.0, 2.0, -6.0, 2.0, 4.0, 1.0, -9.0, 2.0, 0.0, -4.0, -10.0, -2.0, 17.0, -3.0, 17.0, 3.0, 0.0, -12.0, -2.0, 9.0, -7.0, -1.0, -8.0, 8.0, -8.0, -2.0, -10.0, 0.0, -8.0, -4.0, 0.0, -14.0, 2.0, 4.0, -56.0, 22.0, 2.0, -1.0, 10.0, 0.0, 10.0, 1.0, -13.0, -3.0, -5.0, -73.0, 3.0, 15.0, -11.0, -2.0, -8.0, 9.0, 0.0, -3.0, -1.0, 7.0, 1.0, 1.0, -27.0, 1.0, -2.0, -3.0, -6.0, 4.0, -13.0, -4.0, 1.0, 2.0, -20.0, 4.0, 2.0, 9.0, 19.0, -1.0, 1.0, -6.0, 9.0, 0.0, -18.0, -3.0, -38.0, 10.0, 0.0, -17.0, -6.0, 0.0, 4.0, -3.0, -10.0, 15.0, -5.0, 10.0, -3.0, -13.0, 45.0, 1.0, -2.0, 7.0, 1.0, 0.0, -2.0, -1.0, 12.0, 2.0, -2.0, 6.0, -12.0, 3.0, -10.0, -9.0, -15.0, -3.0, 1.0, 0.0, 1.0, -3.0, -9.0, -4.0, 1.0, -23.0, 3.0, 2.0, -2.0, 5.0, -2.0, -28.0, -2.0, -3.0, 4.0, 3.0, -2.0, 2.0, 0.0, 11.0, -11.0, 3.0, -6.0, 2.0, -2.0, 3.0, 3.0, 6.0, 0.0, -2.0, 2.0, 14.0, -3.0, 1.0, 2.0, -2.0, 3.0, -4.0, 2.0, 7.0, 5.0, -2.0, -26.0, 6.0, 0.0, -3.0, 1.0, -9.0, -2.0, 0.0, -1.0, 10.0, -3.0, -5.0, -1.0, 8.0, 0.0, -6.0, 0.0, 2.0, 7.0, 4.0, -6.0, 1.0, 0.0, -1.0, 20.0, 3.0, 13.0, 1.0, -6.0, 23.0, -7.0, -1.0, 1.0, 4.0, 2.0, -5.0, 0.0, 16.0, -3.0, 2.0, -1.0, -6.0, 1.0, 6.0, -2.0, 7.0, -12.0, 7.0, -8.0, -2.0, 7.0, -2.0, -1.0, -1.0, 1.0, -31.0, -3.0, 3.0, 6.0, -17.0, 4.0, -6.0, -6.0, 3.0, 0.0, -10.0, -2.0, 1.0, -4.0, -2.0, 14.0, 5.0, -13.0, -5.0, 7.0, 2.0, -13.0, 1.0, 1.0, 5.0, -1.0, 1.0, -4.0, -4.0, -1.0, 0.0, 19.0, 0.0, -2.0, 6.0, 0.0, 4.0, 3.0, 8.0, 5.0, 24.0, 1.0, 0.0, 4.0, 1.0, 14.0, 10.0, 20.0, -3.0, 13.0, 0.0, 0.0, 0.0, 2.0, 1.0, -7.0, 3.0, 2.0, -2.0, 2.0, 6.0, 5.0, -2.0, 8.0, 0.0, 1.0, 2.0, -7.0, 0.0, 0.0, 14.0, 1.0, 6.0, 1.0, 2.0, 10.0, -2.0, -6.0, -11.0, -1.0, -11.0, 10.0, -3.0, -2.0, 1.0, 4.0, 3.0, 0.0, -1.0, 0.0, 17.0, -4.0, 22.0, 3.0, -3.0, 3.0, 11.0, -3.0, 4.0, 2.0, 4.0, 1.0, 0.0, -15.0, 3.0, 3.0, 1.0, 0.0, -18.0, 0.0, -1.0, 10.0, 1.0, 10.0, 4.0, -4.0, 0.0, 13.0, 0.0, -20.0, -11.0, 6.0, 0.0, 3.0, -6.0, -3.0, 1.0, 4.0, -12.0, 4.0, 2.0, -6.0, 8.0, 0.0, -2.0, -7.0, -4.0, -3.0, -2.0, -1.0, 0.0, 5.0, 8.0, 0.0, 2.0, 0.0, -2.0, 5.0, -1.0, -3.0, 0.0, -24.0, 1.0, 5.0, 0.0, 2.0, 0.0, 8.0, 3.0, 2.0, 4.0, 5.0, 2.0, 0.0, -1.0, 2.0, 1.0, -1.0, 0.0, 2.0, 0.0, -2.0, 0.0, 0.0, 0.0, 0.0, 0.0, 3.0, 0.0, 0.0, 0.0, 0.0, 0.0]]}, \"graphId\": \"45af72ef-5a94-4eec-b630-7ac9e6f5e8ce\", \"uid\": \"3e3cc027-f716-4099-8766-7769ef7c93f2\"}",
       "_model_name": "DOMWidgetModel",
       "_new_url": "",
       "_view_module": "graphWidget",
       "_view_module_version": "",
       "_view_name": "GraphView",
       "layout": "IPY_MODEL_3e4cca8d14a64e9ab5e68282c5ca374e"
      }
     },
     "ab0ef2312f004d64a8f9261dfa08c89e": {
      "model_module": "@jupyter-widgets/controls",
      "model_module_version": "1.2.0",
      "model_name": "SliderStyleModel",
      "state": {
       "description_width": ""
      }
     },
     "ac2dc79017764d4da7b579823a224334": {
      "model_module": "@jupyter-widgets/base",
      "model_module_version": "1.0.0",
      "model_name": "LayoutModel",
      "state": {}
     },
     "af0e57c7476049cb9682f6804cf34ded": {
      "model_module": "@jupyter-widgets/base",
      "model_module_version": "1.0.0",
      "model_name": "DOMWidgetModel",
      "state": {
       "_graph_url": "https://plot.ly/~shy950521/2",
       "_message": "",
       "_model_name": "DOMWidgetModel",
       "_new_url": "",
       "_view_module": "graphWidget",
       "_view_module_version": "",
       "_view_name": "GraphView",
       "layout": "IPY_MODEL_ff9120b74bc04099b5b7d9c5a19251b0"
      }
     },
     "b13b7765fff345aba06c5042e7b39c1e": {
      "model_module": "@jupyter-widgets/base",
      "model_module_version": "1.0.0",
      "model_name": "LayoutModel",
      "state": {}
     },
     "b23670aa539d463aad07d79bba5ff326": {
      "model_module": "@jupyter-widgets/base",
      "model_module_version": "1.0.0",
      "model_name": "LayoutModel",
      "state": {}
     },
     "b46b602067774fdc9dbdca20976d8bbc": {
      "model_module": "@jupyter-widgets/controls",
      "model_module_version": "1.2.0",
      "model_name": "IntSliderModel",
      "state": {
       "layout": "IPY_MODEL_55746e93b2fb4e9bbafe0f5afd808c58",
       "style": "IPY_MODEL_4c7ae947e9c34052a9079d27c4a8ab58",
       "value": 40
      }
     },
     "b62c8d30d92148eba68a0a083123f401": {
      "model_module": "@jupyter-widgets/controls",
      "model_module_version": "1.2.0",
      "model_name": "SliderStyleModel",
      "state": {
       "description_width": ""
      }
     },
     "b9773a0f0dc24b36a4e23a450e0e857f": {
      "model_module": "@jupyter-widgets/controls",
      "model_module_version": "1.2.0",
      "model_name": "IntSliderModel",
      "state": {
       "continuous_update": false,
       "description": "Test:",
       "layout": "IPY_MODEL_4f8b2f8252244b38aba433a3a5e346c6",
       "max": 12,
       "min": 4,
       "style": "IPY_MODEL_397a4db85de7401cb431b97f822fe6d2",
       "value": 4
      }
     },
     "b9e9fddcbade4c17bf50f44a0a4cc693": {
      "model_module": "@jupyter-widgets/base",
      "model_module_version": "1.0.0",
      "model_name": "LayoutModel",
      "state": {}
     },
     "bc4fb8f859c446bea4a00fd4b6796f54": {
      "model_module": "@jupyter-widgets/base",
      "model_module_version": "1.0.0",
      "model_name": "DOMWidgetModel",
      "state": {
       "_graph_url": "https://plot.ly/~shy950521/2",
       "_message": "",
       "_model_name": "DOMWidgetModel",
       "_new_url": "",
       "_view_module": "graphWidget",
       "_view_module_version": "",
       "_view_name": "GraphView",
       "layout": "IPY_MODEL_18709ba6a98d45fdb6561c29c6175137"
      }
     },
     "c033054f5a5a4b929809cebd96de11df": {
      "model_module": "@jupyter-widgets/base",
      "model_module_version": "1.0.0",
      "model_name": "LayoutModel",
      "state": {}
     },
     "c4fcb1296cea470ca449b0943a94fa4b": {
      "model_module": "@jupyter-widgets/output",
      "model_module_version": "1.0.0",
      "model_name": "OutputModel",
      "state": {
       "layout": "IPY_MODEL_7af73a878cb54db1aed5ae58e4aad8fe",
       "outputs": [
        {
         "data": {
          "application/vnd.jupyter.widget-view+json": {
           "model_id": "3f7f31c53828405dabc7d4b50baee488",
           "version_major": 2,
           "version_minor": 0
          },
          "text/plain": "HBox(children=(IntSlider(value=4, continuous_update=False, description='Test:', max=12, min=4),))"
         },
         "metadata": {},
         "output_type": "display_data"
        },
        {
         "data": {
          "application/vnd.jupyter.widget-view+json": {
           "model_id": "0c7c26628aaf4ae49b1e9ebba0e33805",
           "version_major": 2,
           "version_minor": 0
          },
          "text/plain": "GraphWidget()"
         },
         "metadata": {},
         "output_type": "display_data"
        }
       ]
      }
     },
     "c586da9f5f2b4d37b017a88e3f90e4db": {
      "model_module": "@jupyter-widgets/controls",
      "model_module_version": "1.2.0",
      "model_name": "HBoxModel",
      "state": {
       "children": [
        "IPY_MODEL_e209157992584b55bb5c6aedb51186cc"
       ],
       "layout": "IPY_MODEL_e1fe236e54c14168a7ea3b4632302a23"
      }
     },
     "c619e932c5d64b17a938130f5e89105b": {
      "model_module": "@jupyter-widgets/base",
      "model_module_version": "1.0.0",
      "model_name": "DOMWidgetModel",
      "state": {
       "_graph_url": "https://plot.ly/~shy950521/2",
       "_message": "{\"task\": \"restyle\", \"update\": {\"marker.color\": [[8.0, -7.0, 23.0, 1.0, 1.0, 49.0, -26.0, -9.0, -33.0, -4.0, -37.0, 7.0, -2.0, 13.0, 4.0, 18.0, 19.0, 23.0, 0.0, 2.0, -19.0, 2.0, -19.0, -70.0, 14.0, -4.0, -14.0, 3.0, -12.0, -3.0, -4.0, 10.0, 3.0, -37.0, -25.0, 57.0, -7.0, 7.0, 15.0, 8.0, 1.0, 2.0, -1.0, 0.0, 11.0, 5.0, -22.0, 8.0, 19.0, -11.0, -1.0, 13.0, 12.0, -2.0, 2.0, 4.0, 7.0, -1.0, -2.0, 11.0, -6.0, 48.0, 6.0, 0.0, 5.0, 0.0, 50.0, -2.0, 3.0, 1.0, -6.0, 12.0, 0.0, -5.0, 2.0, -32.0, 1.0, -17.0, -4.0, 14.0, 11.0, 8.0, -46.0, 2.0, -1.0, -16.0, 1.0, 0.0, 0.0, -9.0, -1.0, 16.0, 0.0, 0.0, -1.0, 20.0, -20.0, -38.0, -36.0, 20.0, 0.0, 47.0, -58.0, 30.0, -8.0, -3.0, 6.0, 3.0, -8.0, 1.0, -22.0, 0.0, -3.0, 8.0, -5.0, 0.0, 5.0, 14.0, 2.0, 16.0, -4.0, 4.0, -4.0, 1.0, -15.0, 1.0, -2.0, 4.0, 8.0, -3.0, 16.0, 0.0, 4.0, -3.0, 4.0, 0.0, -16.0, 23.0, 0.0, 0.0, -2.0, 50.0, 22.0, 11.0, 9.0, 8.0, 0.0, 3.0, 2.0, 10.0, -1.0, 0.0, 10.0, -3.0, -23.0, 5.0, -1.0, -4.0, 4.0, 1.0, -4.0, 10.0, 17.0, 21.0, -10.0, -1.0, -3.0, 27.0, -1.0, 10.0, -7.0, -12.0, 61.0, 2.0, -12.0, 4.0, -18.0, 4.0, 1.0, 16.0, 1.0, 22.0, 21.0, -12.0, 9.0, -12.0, 0.0, 14.0, -3.0, 20.0, 2.0, -12.0, -1.0, 8.0, 2.0, -1.0, 1.0, -5.0, 6.0, -3.0, 2.0, -6.0, 4.0, 2.0, 2.0, 14.0, -5.0, -4.0, 6.0, 21.0, -7.0, -2.0, -16.0, 3.0, 0.0, -149.0, -4.0, -18.0, -1.0, 8.0, 6.0, -6.0, -18.0, -3.0, 4.0, -17.0, -1.0, 2.0, 1.0, 0.0, -5.0, 1.0, -4.0, 0.0, -21.0, -1.0, 3.0, 8.0, 4.0, 4.0, 36.0, 2.0, 2.0, -6.0, -3.0, 3.0, 5.0, 26.0, 76.0, 4.0, -3.0, -13.0, 1.0, -55.0, -19.0, -10.0, 5.0, -2.0, -15.0, 23.0, 7.0, -6.0, 17.0, 23.0, -2.0, 39.0, 12.0, 11.0, -14.0, 71.0, 0.0, 18.0, -6.0, -11.0, -8.0, -7.0, 3.0, 5.0, 3.0, 7.0, -1.0, 6.0, -18.0, 1.0, -1.0, -5.0, -14.0, 4.0, -7.0, -2.0, 1.0, -8.0, 13.0, 33.0, 3.0, -17.0, -1.0, -1.0, 1.0, -5.0, -6.0, 1.0, 2.0, 2.0, 17.0, 1.0, -24.0, 5.0, 27.0, 2.0, 3.0, -8.0, 4.0, 3.0, -7.0, 17.0, -16.0, -4.0, -3.0, -3.0, -5.0, 19.0, 6.0, -9.0, 1.0, -18.0, -14.0, -15.0, -6.0, -29.0, -9.0, -33.0, -26.0, 3.0, -12.0, 2.0, -17.0, -34.0, 3.0, 1.0, 4.0, 1.0, -5.0, 10.0, 9.0, -10.0, 75.0, -24.0, -35.0, 7.0, -2.0, 17.0, -21.0, -20.0, -7.0, 14.0, 14.0, -5.0, -4.0, -1.0, -5.0, 14.0, -43.0, 8.0, -79.0, -27.0, -3.0, 4.0, -2.0, -2.0, -48.0, 2.0, 7.0, -37.0, -3.0, 2.0, 1.0, 4.0, -1.0, 1.0, 22.0, 10.0, 4.0, -9.0, 21.0, 19.0, 1.0, 8.0, -2.0, 5.0, -30.0, 0.0, -1.0, -20.0, 5.0, -7.0, 10.0, 7.0, 11.0, -11.0, 9.0, 0.0, 21.0, -5.0, -5.0, 2.0, 2.0, -75.0, 15.0, 28.0, 33.0, -5.0, -2.0, 20.0, 0.0, -2.0, 1.0, -7.0, -115.0, 8.0, 6.0, -43.0, 4.0, -10.0, 3.0, -22.0, 10.0, 23.0, 5.0, -3.0, 2.0, -5.0, -3.0, -5.0, 13.0, -7.0, 3.0, 10.0, -4.0, -1.0, 10.0, -28.0, 15.0, 9.0, 16.0, 20.0, -19.0, 19.0, 3.0, -7.0, 15.0, -24.0, -3.0, -61.0, 16.0, -2.0, -25.0, -5.0, 12.0, 4.0, -1.0, -15.0, 20.0, -5.0, -8.0, -5.0, -17.0, 29.0, 10.0, 1.0, 6.0, 9.0, -6.0, 2.0, -8.0, 5.0, 12.0, 4.0, -1.0, -12.0, 12.0, -3.0, 3.0, 2.0, -12.0, 4.0, 1.0, -5.0, -15.0, 4.0, 5.0, 9.0, -22.0, 4.0, 4.0, 0.0, 0.0, -9.0, -20.0, -1.0, 0.0, 2.0, 6.0, 6.0, 7.0, 1.0, 4.0, -4.0, -9.0, 3.0, -3.0, 8.0, -1.0, 3.0, 12.0, 2.0, -12.0, -4.0, -4.0, -3.0, 3.0, -5.0, -13.0, 7.0, -2.0, -1.0, 14.0, 10.0, 6.0, -23.0, -1.0, 3.0, -3.0, -1.0, -11.0, 1.0, 9.0, -2.0, -20.0, -2.0, -14.0, 5.0, 4.0, 7.0, -2.0, 3.0, -10.0, 4.0, 22.0, -4.0, 0.0, 0.0, 12.0, 11.0, 10.0, -2.0, -6.0, 1.0, 4.0, -15.0, -3.0, 3.0, -1.0, 2.0, -3.0, 6.0, 10.0, -7.0, -3.0, 4.0, 5.0, 5.0, 0.0, 2.0, 4.0, -1.0, 4.0, -19.0, -5.0, 5.0, 1.0, 0.0, 9.0, 0.0, -29.0, 0.0, 20.0, -2.0, -15.0, -6.0, -8.0, -2.0, 6.0, 4.0, 8.0, -1.0, -3.0, 1.0, 0.0, -8.0, 15.0, -7.0, -13.0, 1.0, 0.0, -2.0, 9.0, -3.0, 3.0, 1.0, 9.0, 7.0, -2.0, -6.0, 3.0, -2.0, 3.0, 1.0, -1.0, 10.0, 0.0, 0.0, 18.0, 6.0, 44.0, 2.0, 0.0, -3.0, 2.0, 15.0, 7.0, 16.0, -1.0, 12.0, 0.0, -2.0, 0.0, -2.0, -2.0, -12.0, 3.0, 2.0, 6.0, 9.0, 6.0, 4.0, 8.0, 5.0, 0.0, -2.0, 2.0, 4.0, 0.0, 9.0, 15.0, 10.0, -12.0, -2.0, 3.0, -5.0, 4.0, -16.0, 5.0, 2.0, -2.0, 0.0, -1.0, 3.0, 2.0, 3.0, 0.0, -3.0, 2.0, -2.0, 22.0, -7.0, 32.0, -4.0, -7.0, -1.0, 1.0, 16.0, 6.0, -1.0, -3.0, 0.0, -1.0, -24.0, 2.0, 10.0, 4.0, 4.0, -23.0, 7.0, 1.0, 5.0, 1.0, -1.0, 7.0, -3.0, 3.0, 12.0, 0.0, -13.0, -3.0, 8.0, 2.0, 8.0, -2.0, -3.0, 1.0, 4.0, -6.0, 1.0, 1.0, -8.0, 3.0, 1.0, 6.0, 0.0, -15.0, -4.0, 1.0, 0.0, 1.0, 1.0, 4.0, 2.0, 1.0, -1.0, 0.0, 10.0, -5.0, -4.0, 5.0, -21.0, 1.0, 0.0, -1.0, 1.0, 1.0, 8.0, 3.0, 4.0, 11.0, 2.0, 3.0, 3.0, -4.0, -7.0, 0.0, -3.0, -1.0, 2.0, 3.0, 0.0, 1.0, 0.0, 0.0, 0.0, 1.0, 6.0, 0.0, 0.0, 0.0, 0.0, 0.0]]}, \"graphId\": \"017da43d-2b79-4946-ba79-5bac2fbe84b2\", \"uid\": \"62503fef-5b74-46ec-b438-53fb2d58bec6\"}",
       "_model_name": "DOMWidgetModel",
       "_new_url": "",
       "_view_module": "graphWidget",
       "_view_module_version": "",
       "_view_name": "GraphView",
       "layout": "IPY_MODEL_52e7954ff5e64e8986e2970aa23c5edb"
      }
     },
     "caef9bc20fbe4e4398fe235f3f7805fd": {
      "model_module": "@jupyter-widgets/base",
      "model_module_version": "1.0.0",
      "model_name": "LayoutModel",
      "state": {}
     },
     "ce0705019ec24f9ea7d1f1c8a815f931": {
      "model_module": "@jupyter-widgets/controls",
      "model_module_version": "1.2.0",
      "model_name": "HBoxModel",
      "state": {
       "children": [
        "IPY_MODEL_5e361427e6ff4c8091bc3cce44ae0797"
       ],
       "layout": "IPY_MODEL_7b1219da18a049e0b967902fa153e6ea"
      }
     },
     "ce65190c99c8479fa69981828ee8fa22": {
      "model_module": "@jupyter-widgets/base",
      "model_module_version": "1.0.0",
      "model_name": "LayoutModel",
      "state": {
       "height": "300px",
       "width": "400px"
      }
     },
     "d1c9cf60e3304614820d704a13f3ae5d": {
      "model_module": "@jupyter-widgets/controls",
      "model_module_version": "1.2.0",
      "model_name": "SliderStyleModel",
      "state": {
       "description_width": ""
      }
     },
     "d513ead3fd6640cca0b1580985ddb282": {
      "model_module": "@jupyter-widgets/base",
      "model_module_version": "1.0.0",
      "model_name": "LayoutModel",
      "state": {}
     },
     "d5f70bff1c38428db5728c026cb69421": {
      "model_module": "@jupyter-widgets/base",
      "model_module_version": "1.0.0",
      "model_name": "DOMWidgetModel",
      "state": {
       "_graph_url": "https://plot.ly/~shy950521/2",
       "_message": "",
       "_model_name": "DOMWidgetModel",
       "_new_url": "",
       "_view_module": "graphWidget",
       "_view_module_version": "",
       "_view_name": "GraphView",
       "layout": "IPY_MODEL_b9e9fddcbade4c17bf50f44a0a4cc693"
      }
     },
     "de252f97237b4d0ea89f6ffd4503e62a": {
      "model_module": "@jupyter-widgets/base",
      "model_module_version": "1.0.0",
      "model_name": "LayoutModel",
      "state": {}
     },
     "e1fe236e54c14168a7ea3b4632302a23": {
      "model_module": "@jupyter-widgets/base",
      "model_module_version": "1.0.0",
      "model_name": "LayoutModel",
      "state": {}
     },
     "e209157992584b55bb5c6aedb51186cc": {
      "model_module": "@jupyter-widgets/controls",
      "model_module_version": "1.2.0",
      "model_name": "IntSliderModel",
      "state": {
       "continuous_update": false,
       "description": "Test:",
       "layout": "IPY_MODEL_fa00259cebaf442a9f3a251d021ed0a6",
       "max": 12,
       "min": 4,
       "style": "IPY_MODEL_367f0a3ad74c4df5b01beea5d8228502",
       "value": 4
      }
     },
     "e2fd6f1ae827444db899434ebe0dea81": {
      "model_module": "@jupyter-widgets/controls",
      "model_module_version": "1.2.0",
      "model_name": "HBoxModel",
      "state": {
       "children": [
        "IPY_MODEL_16c91638eabc4e1f8e347db1917a3db3"
       ],
       "layout": "IPY_MODEL_ac2dc79017764d4da7b579823a224334"
      }
     },
     "e40ab41720464053bd09dab33b7926fc": {
      "model_module": "@jupyter-widgets/controls",
      "model_module_version": "1.2.0",
      "model_name": "HBoxModel",
      "state": {
       "children": [
        "IPY_MODEL_9a45230cf9d54c7dae6c1d70587b475a"
       ],
       "layout": "IPY_MODEL_5038d3654bf240fab57442166a4c77ec"
      }
     },
     "e9527e3413cf4ea1847c7111900947df": {
      "model_module": "@jupyter-widgets/output",
      "model_module_version": "1.0.0",
      "model_name": "OutputModel",
      "state": {
       "layout": "IPY_MODEL_588a83ce90b94997a76e126290d5dce0",
       "outputs": [
        {
         "data": {
          "application/vnd.jupyter.widget-view+json": {
           "model_id": "ce0705019ec24f9ea7d1f1c8a815f931",
           "version_major": 2,
           "version_minor": 0
          },
          "text/plain": "HBox(children=(IntSlider(value=4, continuous_update=False, description='Test:', max=12, min=4),))"
         },
         "metadata": {},
         "output_type": "display_data"
        },
        {
         "data": {
          "application/vnd.jupyter.widget-view+json": {
           "model_id": "8b886cfa98224d7988f8e4bb44689252",
           "version_major": 2,
           "version_minor": 0
          },
          "text/plain": "GraphWidget()"
         },
         "metadata": {},
         "output_type": "display_data"
        }
       ]
      }
     },
     "f8f21865978e4e9c85f5c18dce67ebb0": {
      "model_module": "@jupyter-widgets/base",
      "model_module_version": "1.0.0",
      "model_name": "LayoutModel",
      "state": {}
     },
     "fa00259cebaf442a9f3a251d021ed0a6": {
      "model_module": "@jupyter-widgets/base",
      "model_module_version": "1.0.0",
      "model_name": "LayoutModel",
      "state": {}
     },
     "fbc267de68794d3eb17c2be7c1706694": {
      "model_module": "@jupyter-widgets/output",
      "model_module_version": "1.0.0",
      "model_name": "OutputModel",
      "state": {
       "layout": "IPY_MODEL_6de70ca3493a474c9784729101a275eb",
       "outputs": [
        {
         "data": {
          "application/vnd.jupyter.widget-view+json": {
           "model_id": "c586da9f5f2b4d37b017a88e3f90e4db",
           "version_major": 2,
           "version_minor": 0
          },
          "text/plain": "HBox(children=(IntSlider(value=4, continuous_update=False, description='Test:', max=12, min=4),))"
         },
         "metadata": {},
         "output_type": "display_data"
        },
        {
         "data": {
          "application/vnd.jupyter.widget-view+json": {
           "model_id": "3354bc1be2f94784bc3731a805ecfcf9",
           "version_major": 2,
           "version_minor": 0
          },
          "text/plain": "GraphWidget()"
         },
         "metadata": {},
         "output_type": "display_data"
        }
       ]
      }
     },
     "feb12b6de79440dc943bab395f07b71e": {
      "model_module": "@jupyter-widgets/controls",
      "model_module_version": "1.2.0",
      "model_name": "SliderStyleModel",
      "state": {
       "description_width": ""
      }
     },
     "ff9120b74bc04099b5b7d9c5a19251b0": {
      "model_module": "@jupyter-widgets/base",
      "model_module_version": "1.0.0",
      "model_name": "LayoutModel",
      "state": {}
     }
    },
    "version_major": 2,
    "version_minor": 0
   }
  }
 },
 "nbformat": 4,
 "nbformat_minor": 2
}
